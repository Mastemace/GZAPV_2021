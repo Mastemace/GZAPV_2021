{
 "cells": [
  {
   "cell_type": "code",
   "execution_count": 9,
   "metadata": {},
   "outputs": [],
   "source": [
    "import cv2 as cv\n",
    "import time"
   ]
  },
  {
   "cell_type": "code",
   "execution_count": 11,
   "metadata": {},
   "outputs": [
    {
     "name": "stdout",
     "output_type": "stream",
     "text": [
      "zvladnuto za  0.2602720260620117 s\n",
      "nasel jsem  22 vysmatych obliceju\n"
     ]
    }
   ],
   "source": [
    "img = cv.imread('imgs/irafm_2017.jpg')\n",
    "\n",
    "chleba = cv.CascadeClassifier('data/haarcascade_frontalface_default.xml')\n",
    "\n",
    "\n",
    "\n",
    "start = time.time()\n",
    "vysmate_obliceje = chleba.detectMultiScale(img, 1.3, 5)\n",
    "print('zvladnuto za ', time.time()-start, 's')\n",
    "\n",
    "print('nasel jsem ', len(vysmate_obliceje), 'vysmatych obliceju')\n",
    "\n",
    "for (x, y, w, h) in vysmate_obliceje:\n",
    "    img = cv.rectangle(img, (x, y), (x+w, y+h), (0, 255, 0), 3)\n",
    "    \n",
    "cv.imshow('', img)\n",
    "cv.waitKey(0)\n",
    "cv.destroyAllWindows() "
   ]
  },
  {
   "cell_type": "code",
   "execution_count": 30,
   "metadata": {},
   "outputs": [
    {
     "name": "stdout",
     "output_type": "stream",
     "text": [
      "nelze se pripojit k videu\n",
      "oblicej nalezen v  0 framech\n",
      "nalezeni failnulo v  0 framech\n"
     ]
    },
    {
     "ename": "ZeroDivisionError",
     "evalue": "division by zero",
     "output_type": "error",
     "traceback": [
      "\u001b[1;31m---------------------------------------------------------------------------\u001b[0m",
      "\u001b[1;31mZeroDivisionError\u001b[0m                         Traceback (most recent call last)",
      "\u001b[1;32m<ipython-input-30-cec4c30e2819>\u001b[0m in \u001b[0;36m<module>\u001b[1;34m\u001b[0m\n\u001b[0;32m     36\u001b[0m \u001b[1;33m\u001b[0m\u001b[0m\n\u001b[0;32m     37\u001b[0m \u001b[0mtotal\u001b[0m \u001b[1;33m=\u001b[0m \u001b[0mok\u001b[0m\u001b[1;33m+\u001b[0m\u001b[0mnok\u001b[0m\u001b[1;33m\u001b[0m\u001b[1;33m\u001b[0m\u001b[0m\n\u001b[1;32m---> 38\u001b[1;33m \u001b[0mprint\u001b[0m\u001b[1;33m(\u001b[0m\u001b[1;34m'presnost:'\u001b[0m\u001b[1;33m,\u001b[0m \u001b[0mint\u001b[0m\u001b[1;33m(\u001b[0m\u001b[1;33m(\u001b[0m\u001b[0mtotal\u001b[0m\u001b[1;33m-\u001b[0m\u001b[0mnok\u001b[0m\u001b[1;33m)\u001b[0m\u001b[1;33m/\u001b[0m\u001b[1;33m(\u001b[0m\u001b[0mtotal\u001b[0m\u001b[1;33m)\u001b[0m\u001b[1;33m*\u001b[0m\u001b[1;36m100\u001b[0m\u001b[1;33m)\u001b[0m\u001b[1;33m,\u001b[0m \u001b[1;34m'%'\u001b[0m \u001b[1;33m)\u001b[0m\u001b[1;33m\u001b[0m\u001b[1;33m\u001b[0m\u001b[0m\n\u001b[0m",
      "\u001b[1;31mZeroDivisionError\u001b[0m: division by zero"
     ]
    }
   ],
   "source": [
    "ok     = 0\n",
    "nok    = 0\n",
    "chleba = cv.CascadeClassifier('data/haarcascade_frontalface_default.xml')\n",
    "rizek  = cv.CascadeClassifier('data/haarcascade_profileface.xml')\n",
    "\n",
    "video  = cv.VideoCapture('imgs/facssde.mp4') \n",
    "if (video.isOpened() == False):\n",
    "    print('nelze se pripojit k videu')\n",
    "\n",
    "    \n",
    "while(True): \n",
    "    ret, frame = video.read() \n",
    "    \n",
    "    if ret==False: break\n",
    "        \n",
    "    frame = cv.resize(frame, (frame.shape[1]//3, frame.shape[0]//3))\n",
    "    faces = chleba.detectMultiScale(frame, 1.1, 2)    \n",
    "    if (len(faces))==0: faces = rizek.detectMultiScale(frame, 1.1, 2)\n",
    "        \n",
    "    for (x,y,w,h) in faces: \n",
    "        cv.rectangle(frame, (x,y), (x+w,y+h), (255,0,0), 2)     \n",
    "        break\n",
    "        \n",
    "    if (len(faces))>0: ok  += 1 \n",
    "    else:              nok += 1    \n",
    "        \n",
    "    cv.imshow('frame', frame) \n",
    "    if cv.waitKey(1) & 0xFF == ord('q'): break\n",
    "\n",
    "video.release() \n",
    "cv.destroyAllWindows() \n",
    "\n",
    "print('oblicej nalezen v ', ok, 'framech')\n",
    "print('nalezeni failnulo v ', nok, 'framech')\n",
    "\n",
    "total = ok+nok\n",
    "print('presnost:', int((total-nok)/(total)*100), '%' )"
   ]
  },
  {
   "cell_type": "code",
   "execution_count": null,
   "metadata": {},
   "outputs": [],
   "source": [
    "cv.VideoCapture(0)"
   ]
  }
 ],
 "metadata": {
  "kernelspec": {
   "display_name": "Python 3",
   "language": "python",
   "name": "python3"
  },
  "language_info": {
   "codemirror_mode": {
    "name": "ipython",
    "version": 3
   },
   "file_extension": ".py",
   "mimetype": "text/x-python",
   "name": "python",
   "nbconvert_exporter": "python",
   "pygments_lexer": "ipython3",
   "version": "3.6.8"
  }
 },
 "nbformat": 4,
 "nbformat_minor": 4
}
