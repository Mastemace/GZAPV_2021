{
 "cells": [
  {
   "cell_type": "code",
   "execution_count": 25,
   "metadata": {},
   "outputs": [],
   "source": [
    "import cv2 as cv\n",
    "import numpy as np"
   ]
  },
  {
   "cell_type": "code",
   "execution_count": 26,
   "metadata": {},
   "outputs": [],
   "source": [
    "tr = cv.TrackerKCF_create()"
   ]
  },
  {
   "cell_type": "code",
   "execution_count": 27,
   "metadata": {},
   "outputs": [],
   "source": [
    "video = cv.VideoCapture('../imgs/face.mp4');\n",
    "chleba = cv.CascadeClassifier('../data/haarcascade_frontalface_default.xml')\n",
    "\n",
    "tracking = False\n",
    "\n",
    "while True:\n",
    "    ret, frame = video.read()\n",
    "    if ret == False:\n",
    "        break\n",
    "        \n",
    "    if tracking == False:\n",
    "        obliceje = chleba.detectMultiScale(frame, 1.3, 5)\n",
    "    \n",
    "        if(len(obliceje) > 0):\n",
    "            oblicej = obliceje[0]\n",
    "            tr = cv.TrackerCSRT_create()\n",
    "            tracking = tr.init(frame, tuple(oblicej))\n",
    "        else: \n",
    "            oblicej = (0,0,0,0)\n",
    "        continue      \n",
    "    else:\n",
    "        tracking, oblicej = tr.update(frame)\n",
    "        if tracking==False:\n",
    "            falce = (0,0,0,0)\n",
    "  \n",
    "    frame = cv.rectangle(frame, (int(oblicej[0]), int(oblicej[1])), (int(oblicej[0]+oblicej[2]), int(oblicej[1]+oblicej[3])), (255, 0, 0), 5)\n",
    "    cv.imshow('', frame)\n",
    "    if cv.waitKey(1) &0xff == ord('q'): break\n",
    "\n",
    "video.release()\n",
    "cv.destroyAllWindows()"
   ]
  }
 ],
 "metadata": {
  "kernelspec": {
   "display_name": "Python 3",
   "language": "python",
   "name": "python3"
  },
  "language_info": {
   "codemirror_mode": {
    "name": "ipython",
    "version": 3
   },
   "file_extension": ".py",
   "mimetype": "text/x-python",
   "name": "python",
   "nbconvert_exporter": "python",
   "pygments_lexer": "ipython3",
   "version": "3.8.5"
  }
 },
 "nbformat": 4,
 "nbformat_minor": 4
}
