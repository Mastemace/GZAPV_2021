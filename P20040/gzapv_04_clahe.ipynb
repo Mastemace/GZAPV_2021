{
  "nbformat": 4,
  "nbformat_minor": 0,
  "metadata": {
    "colab": {
      "name": "gzapv  04 clahe.ipynb",
      "provenance": [],
      "collapsed_sections": [],
      "authorship_tag": "ABX9TyNvP9xZFlKvaV0ji90AEG6M",
      "include_colab_link": true
    },
    "kernelspec": {
      "name": "python3",
      "display_name": "Python 3"
    }
  },
  "cells": [
    {
      "cell_type": "markdown",
      "metadata": {
        "id": "view-in-github",
        "colab_type": "text"
      },
      "source": [
        "<a href=\"https://colab.research.google.com/github/Mastemace/GZAPV_2021/blob/main/P20040/gzapv_04_clahe.ipynb\" target=\"_parent\"><img src=\"https://colab.research.google.com/assets/colab-badge.svg\" alt=\"Open In Colab\"/></a>"
      ]
    },
    {
      "cell_type": "code",
      "metadata": {
        "id": "6P59_LlyKR7D"
      },
      "source": [
        "import cv2 as cv"
      ],
      "execution_count": null,
      "outputs": []
    },
    {
      "cell_type": "code",
      "metadata": {
        "colab": {
          "base_uri": "https://localhost:8080/"
        },
        "id": "EMniMzjiKbEP",
        "outputId": "bda94cfa-4723-4e39-a2dc-1228f742a9e7"
      },
      "source": [
        "img  = cv.imread('test_clahe.jpg')\r\n",
        "img = cv.cvtColor(img, cv.COLOR_BGR2LAB);\r\n",
        "clahe = cv.createCLAHE(clipLimit = 1.0, tileGridSize = (8,8))\r\n",
        "img[...,0] = clahe.apply(img[...,0])\r\n",
        "img = cv.cvtColor(img, cv.COLOR_LAB2BGR)\r\n",
        "cv.imwrite('out_clahe.jpg',img)"
      ],
      "execution_count": null,
      "outputs": [
        {
          "output_type": "execute_result",
          "data": {
            "text/plain": [
              "True"
            ]
          },
          "metadata": {
            "tags": []
          },
          "execution_count": 8
        }
      ]
    }
  ]
}