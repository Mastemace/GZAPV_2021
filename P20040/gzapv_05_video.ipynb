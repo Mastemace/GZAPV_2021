{
  "nbformat": 4,
  "nbformat_minor": 0,
  "metadata": {
    "colab": {
      "name": "gzapv 05 video.ipynb",
      "provenance": [],
      "collapsed_sections": [],
      "authorship_tag": "ABX9TyOjKlX3TpDEgg0XD9nRVBEp",
      "include_colab_link": true
    },
    "kernelspec": {
      "display_name": "Python 3",
      "name": "python3"
    }
  },
  "cells": [
    {
      "cell_type": "markdown",
      "metadata": {
        "id": "view-in-github",
        "colab_type": "text"
      },
      "source": [
        "<a href=\"https://colab.research.google.com/github/Mastemace/GZAPV_2021/blob/main/P20040/gzapv_05_video.ipynb\" target=\"_parent\"><img src=\"https://colab.research.google.com/assets/colab-badge.svg\" alt=\"Open In Colab\"/></a>"
      ]
    },
    {
      "cell_type": "code",
      "metadata": {
        "id": "BM3Y23HObqBr"
      },
      "source": [
        "import cv2 as cv\r\n",
        "from google.colab.patches import cv2_imshow"
      ],
      "execution_count": null,
      "outputs": []
    },
    {
      "cell_type": "code",
      "metadata": {
        "colab": {
          "base_uri": "https://localhost:8080/"
        },
        "id": "L3eei3ihbIS-",
        "outputId": "c8382ee3-8a61-4fa2-fb5d-a5062cf3a1c3"
      },
      "source": [
        "handler = cv.VideoCapture('face.mp4')\r\n",
        "chleba = cv.CascadeClassifier('haarcascade_frontalface_default.xml')\r\n",
        "out = cv.VideoWriter('video.mp4', cv.VideoWriter_fourcc(*'mp4v'), 25, (1704, 1066))\r\n",
        "obliceje_ano = 0\r\n",
        "celkem = 0\r\n",
        "\r\n",
        "while(True):\r\n",
        "  ret, frame = handler.read()\r\n",
        "  if ret==False: break\r\n",
        "  obliceje = chleba.detectMultiScale(frame, 1.3, 5)\r\n",
        "  if len(obliceje) > 0: obliceje_ano += 1\r\n",
        "  celkem += 1\r\n",
        "  for (x,y,w,h) in obliceje:\r\n",
        "    cv.rectangle(frame, (x,y), (x+w,y+h), (0, 255, 0), 3)\r\n",
        "  \r\n",
        "out.release()\r\n",
        "print(obliceje_ano, ' z ', celkem)"
      ],
      "execution_count": null,
      "outputs": [
        {
          "output_type": "stream",
          "text": [
            "264  z  499\n"
          ],
          "name": "stdout"
        }
      ]
    }
  ]
}