{
  "nbformat": 4,
  "nbformat_minor": 0,
  "metadata": {
    "colab": {
      "name": "gzapv 02 movie.ipynb",
      "provenance": [],
      "collapsed_sections": [],
      "authorship_tag": "ABX9TyPGJIVnmo/SPEuO5McEVZOr",
      "include_colab_link": true
    },
    "kernelspec": {
      "name": "python3",
      "display_name": "Python 3"
    }
  },
  "cells": [
    {
      "cell_type": "markdown",
      "metadata": {
        "id": "view-in-github",
        "colab_type": "text"
      },
      "source": [
        "<a href=\"https://colab.research.google.com/github/Mastemace/GZAPV_2021/blob/main/P20040/gzapv_02_movie.ipynb\" target=\"_parent\"><img src=\"https://colab.research.google.com/assets/colab-badge.svg\" alt=\"Open In Colab\"/></a>"
      ]
    },
    {
      "cell_type": "code",
      "metadata": {
        "id": "cuQt1MzZA1Ca"
      },
      "source": [
        "import cv2 as cv"
      ],
      "execution_count": null,
      "outputs": []
    },
    {
      "cell_type": "code",
      "metadata": {
        "id": "RP3e6IxJA-wD"
      },
      "source": [
        "handler = cv.VideoCapture('RedDriver.mp4')\r\n",
        "out = cv.VideoWriter(\"video.mp4\", cv.VideoWriter_fourcc(*'mp4v'), 25, (640, 480))\r\n",
        "i = 1\r\n",
        "while(True):\r\n",
        "    ret, frame = handler.read()\r\n",
        "    if ret==False: break\r\n",
        "    frame = cv.cvtColor(frame, cv.COLOR_BGR2RGB)\r\n",
        "    frame = cv.fastNlMeansDenoisingColored(frame, 5)\r\n",
        "    name = \"images/frame%d.jpg\"%i\r\n",
        "    cv.imwrite(name,frame) \r\n",
        "    i += 1\r\n",
        "    out.write(frame)\r\n",
        "\r\n",
        "    "
      ],
      "execution_count": null,
      "outputs": []
    }
  ]
}