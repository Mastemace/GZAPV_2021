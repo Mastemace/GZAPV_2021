{
 "cells": [
  {
   "cell_type": "code",
   "execution_count": 1,
   "metadata": {},
   "outputs": [],
   "source": [
    "import cv2 as cv\n",
    "from glob import glob\n",
    "import numpy as np"
   ]
  },
  {
   "cell_type": "code",
   "execution_count": 30,
   "metadata": {},
   "outputs": [],
   "source": [
    "def separation_folder_hough(paths, out_dir):\n",
    "    for path in paths:\n",
    "        base_name = path.split('\\\\')[1]\n",
    "        img  = cv.imread(path)\n",
    "        gray = cv.cvtColor(img, cv.COLOR_BGR2GRAY) \n",
    "        circles = cv.HoughCircles(gray, cv.HOUGH_GRADIENT, 10, 10, minRadius = 900, maxRadius = 1700)\n",
    "        circle  = circles[0][0]\n",
    "        circle[2] *= 1.05\n",
    "        \n",
    "        min_x = np.clip(int(circle[0]-circle[2]), 0, img.shape[1]-1)\n",
    "        max_x = np.clip(int(circle[0]+circle[2]), 0, img.shape[1]-1)\n",
    "        min_y = np.clip(int(circle[1]-circle[2]), 0, img.shape[0]-1)\n",
    "        max_y = np.clip(int(circle[1]+circle[2]), 0, img.shape[0]-1)\n",
    "        \n",
    "        img = img[min_y:max_y, min_x:max_x, ...]\n",
    "        cv.imwrite(out_dir+'/'+base_name, img)    \n",
    "        \n",
    "        \n",
    "def resize_folder(paths, out_dir, out_res):\n",
    "    for path in paths:\n",
    "        base_name = path.split('\\\\')[1]\n",
    "        img  = cv.imread(path)\n",
    "       \n",
    "        #preskalovani, aby vetsi strana byla rovna out_res\n",
    "        if img.shape[0]>img.shape[1]:\n",
    "            dx = int(out_res/img.shape[0] * img.shape[1])\n",
    "            img = cv.resize(img, (dx, out_res), interpolation = cv.INTER_LANCZOS4)\n",
    "        else:\n",
    "            dy = int(out_res/img.shape[1] * img.shape[0])\n",
    "            img = cv.resize(img, (out_res, dy), interpolation = cv.INTER_LANCZOS4)\n",
    "            \n",
    "        #vycentrovani    \n",
    "        sy = (out_res-img.shape[0])//2\n",
    "        sx = (out_res-img.shape[1])//2\n",
    "\n",
    "        #vlozeni do ctvercoveho obrazku\n",
    "        out_img = np.zeros((out_res, out_res, 3))\n",
    "        out_img[sy:img.shape[0]+sy, sx:img.shape[1]+sx, ...] = img\n",
    "        \n",
    "        cv.imwrite(out_dir+'/'+base_name, out_img)    "
   ]
  },
  {
   "cell_type": "code",
   "execution_count": null,
   "metadata": {},
   "outputs": [],
   "source": [
    "separation_folder_hough(sorted(glob('sample/*.*')), 'sample_hough')\n",
    "resize_folder(sorted(glob('sample_hough/*.*')), 'sample_hough_resized', 1024)"
   ]
  }
 ],
 "metadata": {
  "kernelspec": {
   "display_name": "Python 3",
   "language": "python",
   "name": "python3"
  },
  "language_info": {
   "codemirror_mode": {
    "name": "ipython",
    "version": 3
   },
   "file_extension": ".py",
   "mimetype": "text/x-python",
   "name": "python",
   "nbconvert_exporter": "python",
   "pygments_lexer": "ipython3",
   "version": "3.6.8"
  }
 },
 "nbformat": 4,
 "nbformat_minor": 4
}
