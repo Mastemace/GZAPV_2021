{
 "cells": [
  {
   "cell_type": "code",
   "execution_count": 7,
   "metadata": {},
   "outputs": [],
   "source": [
    "import cv2 as cv\n",
    "import numpy as np"
   ]
  },
  {
   "cell_type": "code",
   "execution_count": 10,
   "metadata": {},
   "outputs": [],
   "source": [
    "tr = cv.TrackerBoosting_create()"
   ]
  },
  {
   "cell_type": "code",
   "execution_count": 11,
   "metadata": {},
   "outputs": [],
   "source": [
    "video = cv.VideoCapture('imgs/face.mp4')\n",
    "\n",
    "init = False\n",
    "\n",
    "while True:\n",
    "    ret, frame = video.read()\n",
    "    if ret == False:\n",
    "        break\n",
    "    if init == False:\n",
    "        area = cv.selectROI(frame)\n",
    "        tr.init(frame, area)\n",
    "        init = True\n",
    "        continue\n",
    "    if init == True:\n",
    "        searched, area = tr.update(frame)\n",
    "        if searched == False:\n",
    "            print('nenalezeno')\n",
    "            break\n",
    "        \n",
    "        \n",
    "    frame = cv.rectangle(frame, (int(area[0]), int(area[1])), (int(area[0]+area[2]), int(area[1]+area[3])), (255, 0, 0), 5)\n",
    "    cv.imshow('video', frame)\n",
    "    if cv.waitKey(1) &0xff == ord('q'):\n",
    "        break\n",
    "\n",
    "video.release()\n",
    "cv.destroyAllWindows()"
   ]
  },
  {
   "cell_type": "code",
   "execution_count": 27,
   "metadata": {
    "scrolled": false
   },
   "outputs": [],
   "source": [
    "face_cascade = cv.CascadeClassifier('data/haarcascade_frontalface_default.xml')\n",
    "tracking     = False\n",
    "video        = cv.VideoCapture('imgs/face.mp4') \n",
    "\n",
    "while(True): \n",
    "    ret, frame = video.read() \n",
    "    if ret==False: break\n",
    "    \n",
    "    if tracking == False: #jsem v prvnim framu, nebo v n-tem, ale padnul tracker tzn musim najit oblicej\n",
    "        faces = face_cascade.detectMultiScale(cv.cvtColor(frame, cv.COLOR_BGR2GRAY), 1.5, 1)\n",
    "        if (len(faces)>0):\n",
    "            face     = faces[0]\n",
    "            tracker  = cv.TrackerCSRT_create()\n",
    "            tracking = tracker.init(frame, tuple(face))\n",
    "        else:\n",
    "            face     = (0, 0, 0, 0)\n",
    "        continue\n",
    "    else: #mam uz nalezeny oblicej a chci ho trackovat\n",
    "        tracking, face = tracker.update(frame)\n",
    "        if tracking == False: face = (0, 0, 0, 0)\n",
    "            \n",
    "    cv.rectangle(frame, (int(face[0]),int(face[1])), (int(face[0]+face[2]),int(face[1]+face[3])), (255,0,0), 2)     \n",
    "    cv.imshow('frame', frame) \n",
    "    if cv.waitKey(1) & 0xFF == ord('q'): break\n",
    "\n",
    "video.release() \n",
    "cv.destroyAllWindows() "
   ]
  }
 ],
 "metadata": {
  "kernelspec": {
   "display_name": "Python 3",
   "language": "python",
   "name": "python3"
  },
  "language_info": {
   "codemirror_mode": {
    "name": "ipython",
    "version": 3
   },
   "file_extension": ".py",
   "mimetype": "text/x-python",
   "name": "python",
   "nbconvert_exporter": "python",
   "pygments_lexer": "ipython3",
   "version": "3.6.8"
  }
 },
 "nbformat": 4,
 "nbformat_minor": 4
}
