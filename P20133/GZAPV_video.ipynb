{
  "nbformat": 4,
  "nbformat_minor": 0,
  "metadata": {
    "colab": {
      "name": "GZAPV_video.ipynb",
      "provenance": [],
      "toc_visible": true,
      "authorship_tag": "ABX9TyP+DtVTVCD6lWz/E4eDApa6",
      "include_colab_link": true
    },
    "kernelspec": {
      "name": "python3",
      "display_name": "Python 3"
    }
  },
  "cells": [
    {
      "cell_type": "markdown",
      "metadata": {
        "id": "view-in-github",
        "colab_type": "text"
      },
      "source": [
        "<a href=\"https://colab.research.google.com/github/Mastemace/GZAPV_2021/blob/main/P20133/GZAPV_video.ipynb\" target=\"_parent\"><img src=\"https://colab.research.google.com/assets/colab-badge.svg\" alt=\"Open In Colab\"/></a>"
      ]
    },
    {
      "cell_type": "code",
      "metadata": {
        "id": "AOpMOBcBiJzB"
      },
      "source": [
        "import cv2 as cv\n",
        "import matplotlib.pyplot as plt\n",
        "plt.rcParams[\"figure.figsize\"] = (20,20)"
      ],
      "execution_count": 2,
      "outputs": []
    },
    {
      "cell_type": "code",
      "metadata": {
        "id": "So6GQ_2xiPfn"
      },
      "source": [
        "handler = cv.VideoCapture('RedDriver.mp4')\n",
        "out = cv.VideoWriter(\"video.mp4\", cv.VideoWriter_fourcc(*'mp4v'), 25, (640,480))\n",
        "i=0\n",
        "while(True):\n",
        "    ret, frame = handler.read()\n",
        "    frame = cv.cvtColor(frame,cv.COLOR_BGR2RGB)\n",
        "\n",
        "    #remove noies\n",
        "    frame = cv.fastNlMeansDenoisingColored(frame, 11)\n",
        "    \n",
        "    #save frames\n",
        "    name='frames/frame_'+str(i) + '.jpg'\n",
        "    cv.imwrite(name,frame)\n",
        "    i+=1\n",
        "    \n",
        "    #save to video\n",
        "    out.write(frame)\n",
        "    if i==100: break"
      ],
      "execution_count": 7,
      "outputs": []
    }
  ]
}