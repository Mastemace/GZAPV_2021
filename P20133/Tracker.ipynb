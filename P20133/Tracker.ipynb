{
  "nbformat": 4,
  "nbformat_minor": 0,
  "metadata": {
    "colab": {
      "name": "Tracker.ipynb",
      "provenance": [],
      "collapsed_sections": [],
      "authorship_tag": "ABX9TyMsyU+wr6jowFptL+hObi2g",
      "include_colab_link": true
    },
    "kernelspec": {
      "name": "python3",
      "display_name": "Python 3"
    }
  },
  "cells": [
    {
      "cell_type": "markdown",
      "metadata": {
        "id": "view-in-github",
        "colab_type": "text"
      },
      "source": [
        "<a href=\"https://colab.research.google.com/github/Mastemace/GZAPV_2021/blob/main/P20133/Tracker.ipynb\" target=\"_parent\"><img src=\"https://colab.research.google.com/assets/colab-badge.svg\" alt=\"Open In Colab\"/></a>"
      ]
    },
    {
      "cell_type": "code",
      "metadata": {
        "id": "Sa9Anq9-A7cI"
      },
      "source": [
        "import cv2 as cv\n",
        "import numpy as np\n",
        "from google.colab.patches import cv_imshow"
      ],
      "execution_count": null,
      "outputs": []
    },
    {
      "cell_type": "code",
      "metadata": {
        "id": "XxjhdZUgIts1"
      },
      "source": [
        "#tr = cv.TrackerCSRT_create()\n",
        "tr = cv.TrackerKCF_create()\n",
        "#tr = cv.TrackerBoosting_create()"
      ],
      "execution_count": null,
      "outputs": []
    },
    {
      "cell_type": "code",
      "metadata": {
        "id": "OXZd1__LV66B"
      },
      "source": [
        "video = cv.VideoCapture('face.mp4')\n",
        "face_cascade = cv.CascadeClassifier('haarcascade_frontalface_default.xml')\n",
        "tracking = False\n",
        "\n",
        "while(True): \n",
        "    ret, frame = video.read() \n",
        "    if ret==False: break\n",
        "    \n",
        "    if tracking == False:\n",
        "        faces = face_cascade.detectMultiScale(cv.cvtColor(frame, cv.COLOR_BGR2GRAY), 1.5, 1)\n",
        "        if (len(faces)>0):\n",
        "            face = faces[0]\n",
        "            tr = cv.TrackerCSRT_create()\n",
        "            tracking = tr.init(frame, tuple(face))\n",
        "        else:\n",
        "            face = (0, 0, 0, 0)\n",
        "        continue\n",
        "    else:\n",
        "        tracking, face = tr.update(frame)\n",
        "        if tracking == False: face = (0, 0, 0, 0)\n",
        "            \n",
        "    cv.rectangle(frame, (int(face[0]),int(face[1])), (int(face[0]+face[2]),int(face[1]+face[3])), (0,255,0), 2)     \n",
        "    cv_imshow(frame) \n",
        "    if cv.waitKey(1) & 0xFF == ord('q'): break\n",
        "\n",
        "video.release()"
      ],
      "execution_count": null,
      "outputs": []
    }
  ]
}