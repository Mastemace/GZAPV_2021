{
  "nbformat": 4,
  "nbformat_minor": 0,
  "metadata": {
    "colab": {
      "name": "Clahe.ipynb",
      "provenance": [],
      "authorship_tag": "ABX9TyOR+uF6NutkyXS+9GSWrBsU",
      "include_colab_link": true
    },
    "kernelspec": {
      "name": "python3",
      "display_name": "Python 3"
    }
  },
  "cells": [
    {
      "cell_type": "markdown",
      "metadata": {
        "id": "view-in-github",
        "colab_type": "text"
      },
      "source": [
        "<a href=\"https://colab.research.google.com/github/Mastemace/GZAPV_2021/blob/main/P20133/Clahe.ipynb\" target=\"_parent\"><img src=\"https://colab.research.google.com/assets/colab-badge.svg\" alt=\"Open In Colab\"/></a>"
      ]
    },
    {
      "cell_type": "code",
      "metadata": {
        "id": "fMueaiS2yJV9"
      },
      "source": [
        "import cv2 as cv"
      ],
      "execution_count": 2,
      "outputs": []
    },
    {
      "cell_type": "code",
      "metadata": {
        "colab": {
          "base_uri": "https://localhost:8080/"
        },
        "id": "9pjR3AxyydCs",
        "outputId": "83311ce7-dd31-426c-da98-5fa02a5b5bce"
      },
      "source": [
        "img  = cv.imread('test_clahe.jpg')\n",
        "img = cv.cvtColor(img, cv.COLOR_BGR2LAB);\n",
        "clahe = cv.createCLAHE(clipLimit = 1.0, tileGridSize = (8,8))\n",
        "img[...,0] = clahe.apply(img[...,0])\n",
        "img = cv.cvtColor(img, cv.COLOR_LAB2BGR)\n",
        "cv.imwrite('out_clahe.jpg',img)"
      ],
      "execution_count": 3,
      "outputs": [
        {
          "output_type": "execute_result",
          "data": {
            "text/plain": [
              "True"
            ]
          },
          "metadata": {
            "tags": []
          },
          "execution_count": 3
        }
      ]
    }
  ]
}