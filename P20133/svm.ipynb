{
  "nbformat": 4,
  "nbformat_minor": 0,
  "metadata": {
    "colab": {
      "name": "svm.ipynb",
      "provenance": [],
      "mount_file_id": "1e51McIKtQM1Cq6Nvdya1H8t1GCuMfEww",
      "authorship_tag": "ABX9TyMjtHVPUqT9M4IIbjzafzla",
      "include_colab_link": true
    },
    "kernelspec": {
      "name": "python3",
      "display_name": "Python 3"
    }
  },
  "cells": [
    {
      "cell_type": "markdown",
      "metadata": {
        "id": "view-in-github",
        "colab_type": "text"
      },
      "source": [
        "<a href=\"https://colab.research.google.com/github/Mastemace/GZAPV_2021/blob/main/P20133/svm.ipynb\" target=\"_parent\"><img src=\"https://colab.research.google.com/assets/colab-badge.svg\" alt=\"Open In Colab\"/></a>"
      ]
    },
    {
      "cell_type": "code",
      "metadata": {
        "id": "g4xgEb_084UC"
      },
      "source": [
        "import numpy as np\n",
        "import cv2\n",
        "import pandas\n",
        "import glob\n",
        "import math\n",
        "from tqdm import tqdm\n",
        "from scipy.signal import triang"
      ],
      "execution_count": 67,
      "outputs": []
    },
    {
      "cell_type": "code",
      "metadata": {
        "id": "Ecgh9ULJ85tQ"
      },
      "source": [
        "train_img_paths = glob.glob('train/*.jpeg')\n",
        "train_img_names = [img_path.split('/')[-1].split('.')[0] for img_path in train_img_paths]\n",
        "train_data = zip(train_img_paths, train_img_names)"
      ],
      "execution_count": 68,
      "outputs": []
    },
    {
      "cell_type": "code",
      "metadata": {
        "colab": {
          "base_uri": "https://localhost:8080/"
        },
        "id": "4gblXG3t8505",
        "outputId": "dba01537-fa11-47e4-e084-f6bf531929ac"
      },
      "source": [
        "df = pandas.read_csv('trainLabels.csv')\n",
        "data_dict = {}\n",
        "for train_img_path ,train_img_name in train_data:\n",
        "  row = df.loc[df['image'] == train_img_name]\n",
        "  label = row.iloc[0]['level']\n",
        "  data_dict[train_img_path] = label\n",
        "\n",
        "print(data_dict)"
      ],
      "execution_count": 69,
      "outputs": [
        {
          "output_type": "stream",
          "text": [
            "{'train/15_right.jpeg': 2, 'train/13_left.jpeg': 0, 'train/15_left.jpeg': 1, 'train/16_left.jpeg': 4, 'train/13_right.jpeg': 0, 'train/10_left.jpeg': 0, 'train/17_right.jpeg': 1, 'train/17_left.jpeg': 0, 'train/16_right.jpeg': 4, 'train/10_right.jpeg': 0}\n"
          ],
          "name": "stdout"
        }
      ]
    },
    {
      "cell_type": "code",
      "metadata": {
        "id": "9CFaUJtFN5nV"
      },
      "source": [
        "def separation_folder_hough(paths, out_dir):\n",
        "    for path in paths:\n",
        "        base_name = path.split('/')[1]\n",
        "        img  = cv2.imread(path)\n",
        "        gray = cv2.cvtColor(img, cv2.COLOR_BGR2GRAY) \n",
        "        circles = cv2.HoughCircles(gray, cv2.HOUGH_GRADIENT, 10, 10, minRadius = 900, maxRadius = 1700)\n",
        "        circle  = circles[0][0]\n",
        "        circle[2] *= 1.05\n",
        "        \n",
        "        min_x = np.clip(int(circle[0]-circle[2]), 0, img.shape[1]-1)\n",
        "        max_x = np.clip(int(circle[0]+circle[2]), 0, img.shape[1]-1)\n",
        "        min_y = np.clip(int(circle[1]-circle[2]), 0, img.shape[0]-1)\n",
        "        max_y = np.clip(int(circle[1]+circle[2]), 0, img.shape[0]-1)\n",
        "        \n",
        "        img = img[min_y:max_y, min_x:max_x, ...]\n",
        "        cv2.imwrite(out_dir+'/'+base_name, img)    \n",
        "        \n",
        "        \n",
        "def resize_folder(paths, out_dir, out_res):\n",
        "    for path in paths:\n",
        "        base_name = path.split('/')[1]\n",
        "        img  = cv2.imread(path)\n",
        "       \n",
        "        #preskalovani, aby vetsi strana byla rovna out_res\n",
        "        if img.shape[0]>img.shape[1]:\n",
        "            dx = int(out_res/img.shape[0] * img.shape[1])\n",
        "            img = cv2.resize(img, (dx, out_res), interpolation = cv2.INTER_LANCZOS4)\n",
        "        else:\n",
        "            dy = int(out_res/img.shape[1] * img.shape[0])\n",
        "            img = cv2.resize(img, (out_res, dy), interpolation = cv2.INTER_LANCZOS4)\n",
        "            \n",
        "        #vycentrovani    \n",
        "        sy = (out_res-img.shape[0])//2\n",
        "        sx = (out_res-img.shape[1])//2\n",
        "\n",
        "        #vlozeni do ctvercoveho obrazku\n",
        "        out_img = np.zeros((out_res, out_res, 3))\n",
        "        out_img[sy:img.shape[0]+sy, sx:img.shape[1]+sx, ...] = img\n",
        "        \n",
        "        cv2.imwrite(out_dir+'/'+base_name, out_img)\n",
        "def equalize(paths, out_dir):\n",
        "  for path in paths:\n",
        "    base_name = path.split('/')[1]\n",
        "    img  = cv2.imread(path)\n",
        "\n",
        "    img = cv2.cvtColor(img, cv2.COLOR_BGR2LAB);\n",
        "    clahe = cv2.createCLAHE(clipLimit = 1.0, tileGridSize = (8,8))\n",
        "    img[...,0] = clahe.apply(img[...,0])\n",
        "    img = cv2.cvtColor(img, cv2.COLOR_LAB2BGR)\n",
        "    cv2.imwrite(out_dir+'/'+base_name, img)"
      ],
      "execution_count": 70,
      "outputs": []
    },
    {
      "cell_type": "code",
      "metadata": {
        "colab": {
          "base_uri": "https://localhost:8080/"
        },
        "id": "U9BGYsc79FP9",
        "outputId": "f0a33ddd-4062-4b14-c73e-3d4d22196f6a"
      },
      "source": [
        "# TODO - studenti pouziji houghovu transformaci z githubu od Petra na oriznuti\n",
        "# res = np.zeros((2), dtype=np.float32)\n",
        "# for img_path in tqdm(data_dict.keys()):\n",
        "#   img = cv2.imread(img_path)\n",
        "#   res += img.shape[:2]\n",
        "# avg_res = (res / len(data_dict.keys())).astype(np.int32)\n",
        "# print(avg_res)\n",
        "\n",
        "separation_folder_hough(train_img_paths, 'sample')\n",
        "resize_folder(train_img_paths, 'sample', 1024)\n",
        "equalize(train_img_paths, 'sample')            \n",
        "\n",
        "avg_res  = [1024, 1024]\n",
        "print(avg_res)"
      ],
      "execution_count": 71,
      "outputs": [
        {
          "output_type": "stream",
          "text": [
            "[1024, 1024]\n"
          ],
          "name": "stdout"
        }
      ]
    },
    {
      "cell_type": "code",
      "metadata": {
        "colab": {
          "base_uri": "https://localhost:8080/"
        },
        "id": "bq9Yk30z9GVE",
        "outputId": "555e4817-c2e5-4da8-e0ef-fa8911d6116b"
      },
      "source": [
        "factor = 1\n",
        "len(data_dict.keys()) * (avg_res[0] / factor) * (avg_res[1] / factor) * 1 * 32 / 8 / 1024 / 1024 / 1024"
      ],
      "execution_count": 72,
      "outputs": [
        {
          "output_type": "execute_result",
          "data": {
            "text/plain": [
              "0.0390625"
            ]
          },
          "metadata": {
            "tags": []
          },
          "execution_count": 72
        }
      ]
    },
    {
      "cell_type": "code",
      "metadata": {
        "id": "6jina7n39JWM"
      },
      "source": [
        "train_x = np.zeros((len(data_dict.keys()), math.ceil(avg_res[0] / factor) * math.ceil(avg_res[1] / factor)), dtype=np.float32)\n",
        "train_y = np.zeros(len(data_dict.keys()), dtype=np.int32)"
      ],
      "execution_count": 77,
      "outputs": []
    },
    {
      "cell_type": "code",
      "metadata": {
        "id": "sUhtWpSY9LdK"
      },
      "source": [
        "# vyzkouset jiny konvolucni kernel\n",
        "tr = triang(factor*2+1).reshape(factor*2+1, 1)\n",
        "kernel = np.dot(tr, tr.T)\n",
        "kernel /= np.sum(kernel)"
      ],
      "execution_count": 78,
      "outputs": []
    },
    {
      "cell_type": "code",
      "metadata": {
        "colab": {
          "base_uri": "https://localhost:8080/"
        },
        "id": "tbQ8avMN9NSV",
        "outputId": "03193b75-f4ef-452c-e34b-b81a4ef28a39"
      },
      "source": [
        "i = 0\n",
        "for img_path in tqdm(data_dict.keys()):\n",
        "  img = cv2.imread(img_path)\n",
        "  img = cv2.cvtColor(img, cv2.COLOR_BGR2GRAY)\n",
        "  img = cv2.resize(img, (avg_res[1], avg_res[0]))\n",
        "  img = cv2.filter2D(img, -1, kernel)[::factor, ::factor, ...]\n",
        "  # feature extraction, student muze vlozit vlastni vektor features\n",
        "  train_x[i, ...] = img.flatten() / 255.0\n",
        "  train_y[i] = data_dict[img_path]\n",
        "  i += 1\n",
        "\n",
        "train_y[train_y != 0] = -1\n",
        "train_y[train_y == 0] = 1"
      ],
      "execution_count": 79,
      "outputs": [
        {
          "output_type": "stream",
          "text": [
            "100%|██████████| 10/10 [00:01<00:00,  6.28it/s]\n"
          ],
          "name": "stderr"
        }
      ]
    },
    {
      "cell_type": "code",
      "metadata": {
        "id": "yEWnpv6r9QOE"
      },
      "source": [
        "# https://docs.opencv.org/3.4/d1/d73/tutorial_introduction_to_svm.html\n",
        "svm = cv2.ml.SVM_create()\n",
        "svm.setType(cv2.ml.SVM_C_SVC)\n",
        "svm.setKernel(cv2.ml.SVM_LINEAR)\n",
        "svm.setTermCriteria((cv2.TERM_CRITERIA_MAX_ITER, 100, 1e-6))"
      ],
      "execution_count": 80,
      "outputs": []
    },
    {
      "cell_type": "code",
      "metadata": {
        "id": "HeS6gTY49SR6",
        "colab": {
          "base_uri": "https://localhost:8080/"
        },
        "outputId": "918193c9-2015-4c30-c0f3-d5017e54ca1c"
      },
      "source": [
        "svm.train(train_x, cv2.ml.ROW_SAMPLE, train_y)"
      ],
      "execution_count": 81,
      "outputs": [
        {
          "output_type": "execute_result",
          "data": {
            "text/plain": [
              "True"
            ]
          },
          "metadata": {
            "tags": []
          },
          "execution_count": 81
        }
      ]
    },
    {
      "cell_type": "code",
      "metadata": {
        "id": "LbKw-CjA9T7S",
        "colab": {
          "base_uri": "https://localhost:8080/"
        },
        "outputId": "28bb4f57-f661-456f-83d8-f3a79ff2ca6b"
      },
      "source": [
        "# predikovat ne trenovaci data, ale testovaci\n",
        "predictions = np.copy(train_y)\n",
        "for i in tqdm(range(train_x.shape[0])):\n",
        "  predictions[i] = svm.predict(train_x[i:i+1, ...])[1]\n",
        "\n",
        "ind = predictions == train_y\n",
        "print(np.sum(ind), np.sum(ind) / train_y.shape[0] * 100)"
      ],
      "execution_count": 82,
      "outputs": [
        {
          "output_type": "stream",
          "text": [
            "100%|██████████| 10/10 [00:00<00:00, 678.14it/s]"
          ],
          "name": "stderr"
        },
        {
          "output_type": "stream",
          "text": [
            "10 100.0\n"
          ],
          "name": "stdout"
        },
        {
          "output_type": "stream",
          "text": [
            "\n"
          ],
          "name": "stderr"
        }
      ]
    }
  ]
}