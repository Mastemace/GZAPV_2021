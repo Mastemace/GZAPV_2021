{
  "nbformat": 4,
  "nbformat_minor": 0,
  "metadata": {
    "colab": {
      "name": "hought_example.ipynb",
      "provenance": [],
      "collapsed_sections": []
    },
    "kernelspec": {
      "name": "python3",
      "display_name": "Python 3"
    }
  },
  "cells": [
    {
      "cell_type": "code",
      "metadata": {
        "id": "sxNRk4WeLItG"
      },
      "source": [
        "import cv2\r\n",
        "import matplotlib.pyplot as plt\r\n",
        "import numpy as np\r\n",
        "import math"
      ],
      "execution_count": 64,
      "outputs": []
    },
    {
      "cell_type": "code",
      "metadata": {
        "id": "X45VngD4aAS2"
      },
      "source": [
        "# nahradit svým obrázkem\r\n",
        "img = cv2.imread('road.jpg')"
      ],
      "execution_count": 65,
      "outputs": []
    },
    {
      "cell_type": "code",
      "metadata": {
        "id": "kBDJBNxxaC_J"
      },
      "source": [
        "plt.imshow(img)"
      ],
      "execution_count": null,
      "outputs": []
    },
    {
      "cell_type": "code",
      "metadata": {
        "id": "BqBcyCBKaZQ4"
      },
      "source": [
        "dst = cv2.Canny(img, 240, 255)\r\n",
        "cdst = cv2.cvtColor(dst, cv2.COLOR_GRAY2BGR)   \r\n",
        "lines = cv2.HoughLines(dst, 1, np.pi / 180, 150, None, 0, 0)"
      ],
      "execution_count": 67,
      "outputs": []
    },
    {
      "cell_type": "code",
      "metadata": {
        "colab": {
          "base_uri": "https://localhost:8080/"
        },
        "id": "PHHvKyghaa9z",
        "outputId": "3949d318-2a3e-42f4-cb3a-48fe89c8688e"
      },
      "source": [
        "if lines is not None:\r\n",
        "    for i in range(0, 4):\r\n",
        "        rho = lines[i][0][0]\r\n",
        "        theta = lines[i][0][1]\r\n",
        "        a = math.cos(theta)\r\n",
        "        b = math.sin(theta)\r\n",
        "        x0 = a * rho\r\n",
        "        y0 = b * rho\r\n",
        "        pt1 = (int(x0 + 1000*(-b)), int(y0 + 1000*(a)))\r\n",
        "        pt2 = (int(x0 - 1000*(-b)), int(y0 - 1000*(a)))\r\n",
        "        cv2.line(cdst, pt1, pt2, (0,0,255), 3, cv2.LINE_AA)\r\n",
        "        cv2.line(img, pt1, pt2, (0,0,255), 3, cv2.LINE_AA)\r\n",
        "print(lines.shape)"
      ],
      "execution_count": 68,
      "outputs": [
        {
          "output_type": "stream",
          "text": [
            "(12, 1, 2)\n"
          ],
          "name": "stdout"
        }
      ]
    },
    {
      "cell_type": "code",
      "metadata": {
        "id": "G5F-K0q0bUjU"
      },
      "source": [
        "plt.figure(figsize=(20,20))\r\n",
        "plt.imshow(cdst)"
      ],
      "execution_count": null,
      "outputs": []
    },
    {
      "cell_type": "code",
      "metadata": {
        "id": "Q5CIU2fEdJ-3"
      },
      "source": [
        "plt.figure(figsize=(20,20))\r\n",
        "plt.imshow(img)"
      ],
      "execution_count": null,
      "outputs": []
    }
  ]
}