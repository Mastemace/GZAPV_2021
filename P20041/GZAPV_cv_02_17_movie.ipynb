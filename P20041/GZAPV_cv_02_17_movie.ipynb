{
  "nbformat": 4,
  "nbformat_minor": 0,
  "metadata": {
    "colab": {
      "name": "GZAPV_cv_02_17_movie.ipynb",
      "provenance": [],
      "collapsed_sections": [],
      "authorship_tag": "ABX9TyP0v3mVBivmAM+QSTd3Yih4",
      "include_colab_link": true
    },
    "kernelspec": {
      "name": "python3",
      "display_name": "Python 3"
    }
  },
  "cells": [
    {
      "cell_type": "markdown",
      "metadata": {
        "id": "view-in-github",
        "colab_type": "text"
      },
      "source": [
        "<a href=\"https://colab.research.google.com/github/Mastemace/GZAPV_2021/blob/main/P20041/GZAPV_cv_02_17_movie.ipynb\" target=\"_parent\"><img src=\"https://colab.research.google.com/assets/colab-badge.svg\" alt=\"Open In Colab\"/></a>"
      ]
    },
    {
      "cell_type": "code",
      "metadata": {
        "id": "MfjLVaCg_6Sz"
      },
      "source": [
        "import cv2 as cv"
      ],
      "execution_count": 4,
      "outputs": []
    },
    {
      "cell_type": "code",
      "metadata": {
        "id": "sC0_eE1AADCB"
      },
      "source": [
        "handler = cv.VideoCapture('RedDriver.mp4')\r\n",
        "outputVideo = cv.VideoWriter(\"nlVideo.mp4\", cv.VideoWriter_fourcc(*'mp4v'), 25, (640, 480))\r\n",
        "i = 1\r\n",
        "\r\n",
        "while(True):\r\n",
        "    ret, frame = handler.read()\r\n",
        "    frame = cv.cvtColor(frame, cv.COLOR_BGR2RGB)\r\n",
        "\r\n",
        "    # remove noise\r\n",
        "    temp = cv.fastNlMeansDenoisingColored(frame, 5)\r\n",
        "\r\n",
        "    # save frames\r\n",
        "    name='frames/frame'+str(i)+'.jpg'\r\n",
        "    cv.imwrite(name, temp) \r\n",
        "    i+=1\r\n",
        "\r\n",
        "    # save to video\r\n",
        "    outputVideo.write(temp)\r\n",
        "    if i==100: break\r\n",
        "    # if ret==False: break"
      ],
      "execution_count": 12,
      "outputs": []
    }
  ]
}