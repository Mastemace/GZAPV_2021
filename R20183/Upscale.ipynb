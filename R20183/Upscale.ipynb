{
 "cells": [
  {
   "cell_type": "code",
   "execution_count": 1,
   "metadata": {},
   "outputs": [],
   "source": [
    "import cv2 as cv\n"
   ]
  },
  {
   "cell_type": "code",
   "execution_count": 2,
   "metadata": {},
   "outputs": [],
   "source": [
    "img = cv.imread(\"test_img_downscale.png\",1)\n",
    "\n",
    "width = int(img.shape[1] * 20 / 100)\n",
    "height = int(img.shape[0] * 20 / 100)\n",
    "dim = (width, height)\n",
    "\n",
    "width2 = int(img.shape[1] * 500 / 100)\n",
    "height2 = int(img.shape[0] * 500 / 100)\n",
    "dim2 = (width2, height2)\n",
    "\n",
    "UP1 = cv.resize(img, dim, interpolation=cv.INTER_NEAREST)\n",
    "UP2 = cv.resize(img, dim, interpolation=cv.INTER_LINEAR)\n",
    "UP3 = cv.resize(img, dim, interpolation=cv.INTER_CUBIC)\n",
    "UP4 = cv.resize(img, dim, interpolation=cv.INTER_LANCZOS4)\n",
    "\n",
    "#cv.imwrite(\"DW1.jpg\", DW1)\n",
    "#cv.imwrite(\"DW2.jpg\", DW2)\n",
    "#cv.imwrite(\"DW3.jpg\", DW3)\n",
    "#cv.imwrite(\"DW4.jpg\", DW4)"
   ]
  },
  {
   "cell_type": "code",
   "execution_count": 3,
   "metadata": {},
   "outputs": [
    {
     "data": {
      "text/plain": [
       "True"
      ]
     },
     "execution_count": 3,
     "metadata": {},
     "output_type": "execute_result"
    }
   ],
   "source": [
    "UP1 = cv.resize(UP1, dim2, interpolation=cv.INTER_NEAREST)\n",
    "UP2 = cv.resize(UP2, dim2, interpolation=cv.INTER_LINEAR)\n",
    "UP3 = cv.resize(UP3, dim2, interpolation=cv.INTER_CUBIC)\n",
    "UP4 = cv.resize(UP4, dim2, interpolation=cv.INTER_LANCZOS4)\n",
    "\n",
    "cv.imwrite(\"UP1.jpg\", UP1)\n",
    "cv.imwrite(\"UP2.jpg\", UP2)\n",
    "cv.imwrite(\"UP3.jpg\", UP3)\n",
    "cv.imwrite(\"UP4.jpg\", UP4)"
   ]
  }
 ],
 "metadata": {
  "kernelspec": {
   "display_name": "Python 3",
   "language": "python",
   "name": "python3"
  },
  "language_info": {
   "codemirror_mode": {
    "name": "ipython",
    "version": 3
   },
   "file_extension": ".py",
   "mimetype": "text/x-python",
   "name": "python",
   "nbconvert_exporter": "python",
   "pygments_lexer": "ipython3",
   "version": "3.8.5"
  }
 },
 "nbformat": 4,
 "nbformat_minor": 4
}
