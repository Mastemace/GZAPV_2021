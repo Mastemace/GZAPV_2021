{
  "nbformat": 4,
  "nbformat_minor": 0,
  "metadata": {
    "colab": {
      "name": "carvana.ipynb",
      "provenance": [],
      "collapsed_sections": []
    },
    "kernelspec": {
      "name": "python3",
      "display_name": "Python 3"
    },
    "language_info": {
      "name": "python"
    }
  },
  "cells": [
    {
      "cell_type": "code",
      "metadata": {
        "id": "LnXuUIesVnYu"
      },
      "source": [
        "# Get & unzip data\n",
        "!rm -rf ../content/*\n",
        "!wget https://graphicwg.irafm.osu.cz/storage/carvana.zip --no-check-certificate\n",
        "!unzip -q carvana.zip\n",
        "!rm carvana.zip"
      ],
      "execution_count": null,
      "outputs": []
    },
    {
      "cell_type": "code",
      "metadata": {
        "id": "jaX6kBgTYD4X"
      },
      "source": [
        "# Install dependencies\n",
        "!pip install segmentation_models"
      ],
      "execution_count": null,
      "outputs": []
    },
    {
      "cell_type": "code",
      "metadata": {
        "id": "49roQR6aZT0n"
      },
      "source": [
        "# Set environment variable so segmentation_models uses correct Keras\n",
        "%env SM_FRAMEWORK = tf.keras\n",
        "\n",
        "# Import libraries\n",
        "import segmentation_models as sm\n",
        "import cv2\n",
        "from glob import glob\n",
        "import matplotlib.pyplot as plt\n",
        "from tqdm.notebook import tqdm"
      ],
      "execution_count": null,
      "outputs": []
    },
    {
      "cell_type": "code",
      "metadata": {
        "id": "9uroXonqaUcA"
      },
      "source": [
        "# Create & compile model\n",
        "model = sm.Unet(\"resnet18\", classes=2, input_shape=(320, 480, 3), encoder_weights=None)\n",
        "model.compile(\"Adam\", sm.losses.DiceLoss())"
      ],
      "execution_count": 5,
      "outputs": []
    },
    {
      "cell_type": "code",
      "metadata": {
        "id": "JKbAiGBbkP_o"
      },
      "source": [
        "# Load data and labels into RAM\n",
        "def load_data(data_folder, label_folder):\n",
        "  data_paths = sorted(glob(data_folder + \"*.*\"))                                                               #  data_path/name.jpg\n",
        "  data = [cv2.cvtColor(cv2.imread(path), cv2.COLOR_BGR2RGB) for path in tqdm(data_paths, desc=\"Loading data from '\" + data_folder + \"'\")]\n",
        "\n",
        "  labels_paths = [path.replace(data_folder, label_folder).replace(\".jpg\", \"_mask.png\") for path in data_paths] # label_path/name_mask.png\n",
        "  labels = [cv2.imread(path) for path in tqdm(labels_paths, desc=\"Loading labels from '\" + label_folder + \"'\")]\n",
        "\n",
        "  return data, labels\n",
        "\n",
        "x_train, y_train = load_data('./train/', './train_masks/')\n",
        "x_valid, y_valid = load_data('./valid/', './valid_masks/')"
      ],
      "execution_count": null,
      "outputs": []
    }
  ]
}