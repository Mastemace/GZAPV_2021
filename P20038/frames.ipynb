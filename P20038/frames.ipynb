{
  "nbformat": 4,
  "nbformat_minor": 0,
  "metadata": {
    "colab": {
      "name": "frames.ipynb",
      "provenance": [],
      "collapsed_sections": [],
      "authorship_tag": "ABX9TyMouAXS7q+xV5Srt0WN7xd3",
      "include_colab_link": true
    },
    "kernelspec": {
      "name": "python3",
      "display_name": "Python 3"
    }
  },
  "cells": [
    {
      "cell_type": "markdown",
      "metadata": {
        "id": "view-in-github",
        "colab_type": "text"
      },
      "source": [
        "<a href=\"https://colab.research.google.com/github/Mastemace/GZAPV_2021/blob/main/P20038/frames.ipynb\" target=\"_parent\"><img src=\"https://colab.research.google.com/assets/colab-badge.svg\" alt=\"Open In Colab\"/></a>"
      ]
    },
    {
      "cell_type": "code",
      "metadata": {
        "id": "4B0dNTGjDgbS"
      },
      "source": [
        "import cv2 as cv"
      ],
      "execution_count": 1,
      "outputs": []
    },
    {
      "cell_type": "code",
      "metadata": {
        "id": "KodwRTuhDjeE"
      },
      "source": [
        "handler = cv.VideoCapture('RedDriver.mp4')\r\n",
        "vid = cv.VideoWriter(\"editedVideo.mp4\",cv.VideoWriter_fourcc(*'mp4v'),25,(640,480))\r\n",
        "i=1\r\n",
        "while(True):\r\n",
        "    ret, frame = handler.read()\r\n",
        "    frame = cv.cvtColor(frame,cv.COLOR_BGR2RGB)\r\n",
        "    #remove noise\r\n",
        "    out_nl    = cv.fastNlMeansDenoisingColored(frame, 5)\r\n",
        "    #save frames\r\n",
        "    name='help/frame'+str(i) + '.jpg'\r\n",
        "    cv.imwrite(name,frame)\r\n",
        "    i+=1\r\n",
        "    #write the video\r\n",
        "    vid.write(frame)\r\n",
        "    if i==100: break"
      ],
      "execution_count": 2,
      "outputs": []
    }
  ]
}