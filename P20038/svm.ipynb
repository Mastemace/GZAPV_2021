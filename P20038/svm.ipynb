{
  "nbformat": 4,
  "nbformat_minor": 0,
  "metadata": {
    "colab": {
      "name": "svm.ipynb",
      "provenance": [],
      "collapsed_sections": [],
      "toc_visible": true,
      "authorship_tag": "ABX9TyOXZ93vMWjA0YHNIBy7m+pa",
      "include_colab_link": true
    },
    "kernelspec": {
      "name": "python3",
      "display_name": "Python 3"
    }
  },
  "cells": [
    {
      "cell_type": "markdown",
      "metadata": {
        "id": "view-in-github",
        "colab_type": "text"
      },
      "source": [
        "<a href=\"https://colab.research.google.com/github/Mastemace/GZAPV_2021/blob/main/P20038/svm.ipynb\" target=\"_parent\"><img src=\"https://colab.research.google.com/assets/colab-badge.svg\" alt=\"Open In Colab\"/></a>"
      ]
    },
    {
      "cell_type": "code",
      "metadata": {
        "id": "7OK8VEZf8nc5"
      },
      "source": [
        "import numpy as np\r\n",
        "import cv2\r\n",
        "import pandas\r\n",
        "from glob import glob\r\n",
        "import math\r\n",
        "from tqdm import tqdm\r\n",
        "from scipy.signal import triang"
      ],
      "execution_count": 15,
      "outputs": []
    },
    {
      "cell_type": "code",
      "metadata": {
        "id": "yoWOonX-7isG"
      },
      "source": [
        ""
      ],
      "execution_count": null,
      "outputs": []
    },
    {
      "cell_type": "code",
      "metadata": {
        "id": "9gSHwyqP8oxP"
      },
      "source": [
        "train_img_paths = glob('sample/*.jpeg')\r\n",
        "train_img_names = [img_path.split('/')[-1].split('.')[0] for img_path in train_img_paths]\r\n",
        "train_data = zip(train_img_paths, train_img_names)"
      ],
      "execution_count": 17,
      "outputs": []
    },
    {
      "cell_type": "code",
      "metadata": {
        "id": "H2N5mNau7Wfp",
        "colab": {
          "base_uri": "https://localhost:8080/"
        },
        "outputId": "ce3eafe4-bb4f-481e-a50b-c699e4b3bb77"
      },
      "source": [
        "df = pandas.read_csv('trainLabels.csv')\r\n",
        "data_dict = {}\r\n",
        "for train_img_path ,train_img_name in train_data:\r\n",
        "  row = df.loc[df['image'] == train_img_name]\r\n",
        "  label = row.iloc[0]['level']\r\n",
        "  data_dict[train_img_path] = label\r\n",
        "\r\n",
        "print(data_dict)"
      ],
      "execution_count": 18,
      "outputs": [
        {
          "output_type": "stream",
          "text": [
            "{'sample/10_left.jpeg': 0, 'sample/10_right.jpeg': 0, 'sample/13_right.jpeg': 0, 'sample/17_left.jpeg': 0, 'sample/13_left.jpeg': 0, 'sample/17_right.jpeg': 1, 'sample/15_left.jpeg': 1, 'sample/15_right.jpeg': 2, 'sample/16_right.jpeg': 4, 'sample/16_left.jpeg': 4}\n"
          ],
          "name": "stdout"
        }
      ]
    },
    {
      "cell_type": "code",
      "metadata": {
        "id": "bpVZk-2K7YF7"
      },
      "source": [
        "def separation_folder_hough(paths, out_dir):\r\n",
        "  for path in paths:\r\n",
        "    base_name = path.split('/')[1]\r\n",
        "    img = cv2.imread(path)\r\n",
        "    gray = cv2.cvtColor(img, cv2.COLOR_BGR2GRAY)\r\n",
        "    circles = cv2.HoughCircles(gray, cv2.HOUGH_GRADIENT, 10, 10, minRadius = 900, maxRadius = 1700)\r\n",
        "    circle  = circles[0][0]\r\n",
        "    circle[2] *= 1.05\r\n",
        "    \r\n",
        "    min_x = np.clip(int(circle[0]-circle[2]), 0, img.shape[1]-1)\r\n",
        "    max_x = np.clip(int(circle[0]+circle[2]), 0, img.shape[1]-1)\r\n",
        "    min_y = np.clip(int(circle[1]-circle[2]), 0, img.shape[0]-1)\r\n",
        "    max_y = np.clip(int(circle[1]+circle[2]), 0, img.shape[0]-1)\r\n",
        "    \r\n",
        "    img = img[min_y:max_y, min_x:max_x, ...]\r\n",
        "    cv2.imwrite(out_dir+'/'+base_name, img)  \r\n",
        "\r\n",
        "def resize_folder(paths, out_dir, out_res):\r\n",
        "  for path in paths:\r\n",
        "    base_name = path.split('/')[1]\r\n",
        "    img  = cv2.imread(path)\r\n",
        "    if img.shape[0]>img.shape[1]:\r\n",
        "      dx = int(out_res/img.shape[0] * img.shape[1])\r\n",
        "      img = cv2.resize(img, (dx, out_res), interpolation = cv2.INTER_LINEAR)\r\n",
        "    else:\r\n",
        "      dy = int(out_res/img.shape[1] * img.shape[0])\r\n",
        "      img = cv2.resize(img, (out_res, dy), interpolation = cv2.INTER_LINEAR)\r\n",
        "      sy = (out_res-img.shape[0])//2\r\n",
        "      sx = (out_res-img.shape[1])//2\r\n",
        "      out_img = np.zeros((out_res, out_res, 3))\r\n",
        "      out_img[sy:img.shape[0]+sy, sx:img.shape[1]+sx, ...] = img\r\n",
        "      cv2.imwrite(out_dir+'/'+base_name, out_img)"
      ],
      "execution_count": 19,
      "outputs": []
    },
    {
      "cell_type": "code",
      "metadata": {
        "id": "-GYowndY7a0u"
      },
      "source": [
        "separation_folder_hough(train_img_paths, 'sample')\r\n",
        "resize_folder(train_img_paths, 'sample', 1024)"
      ],
      "execution_count": 20,
      "outputs": []
    },
    {
      "cell_type": "code",
      "metadata": {
        "id": "KBHZ5LqQ7bhC"
      },
      "source": [
        "# TODO - studenti pouziji houghovu transformaci z githubu od Petra na oriznuti\r\n",
        "# res = np.zeros((2), dtype=np.float32)\r\n",
        "# for img_path in tqdm(data_dict.keys()):\r\n",
        "#  img = cv2.imread(img_path)\r\n",
        "#  res += img.shape[:2]\r\n",
        "# avg_res = (res / len(data_dict.keys())).astype(np.int32)\r\n",
        "# print(avg_res)\r\n",
        "\r\n",
        "avg_res = [1024, 1024]"
      ],
      "execution_count": 22,
      "outputs": []
    },
    {
      "cell_type": "code",
      "metadata": {
        "id": "z0FoNGIH7juA",
        "colab": {
          "base_uri": "https://localhost:8080/"
        },
        "outputId": "d136b660-34ff-4b3a-b1e7-298171c222a8"
      },
      "source": [
        "factor = 3\r\n",
        "len(data_dict.keys()) * (avg_res[0] / factor) * (avg_res[1] / factor) * 1 * 32 / 8 / 1024 / 1024 / 1024"
      ],
      "execution_count": 23,
      "outputs": [
        {
          "output_type": "execute_result",
          "data": {
            "text/plain": [
              "0.004340277777777777"
            ]
          },
          "metadata": {
            "tags": []
          },
          "execution_count": 23
        }
      ]
    },
    {
      "cell_type": "code",
      "metadata": {
        "id": "Unlyfo3F7kjT"
      },
      "source": [
        "train_x = np.zeros((len(data_dict.keys()), math.ceil(avg_res[0] / factor) * math.ceil(avg_res[1] / factor)), dtype=np.float32)\r\n",
        "train_y = np.zeros(len(data_dict.keys()), dtype=np.int32)"
      ],
      "execution_count": 24,
      "outputs": []
    },
    {
      "cell_type": "code",
      "metadata": {
        "id": "vFtb4GTV7mXQ"
      },
      "source": [
        "# vyzkouset jiny konvolucni kernel\r\n",
        "tr = triang(factor*2+1).reshape(factor*2+1, 1)\r\n",
        "kernel = np.dot(tr, tr.T)\r\n",
        "kernel /= np.sum(kernel)"
      ],
      "execution_count": 25,
      "outputs": []
    },
    {
      "cell_type": "code",
      "metadata": {
        "id": "Iizqh1tP7n5y",
        "colab": {
          "base_uri": "https://localhost:8080/"
        },
        "outputId": "08f91358-d287-4918-dbdf-f9eba4f3dcbc"
      },
      "source": [
        "i = 0\r\n",
        "for img_path in tqdm(data_dict.keys()):\r\n",
        "  img = cv2.imread(img_path)\r\n",
        "  img = cv2.cvtColor(img, cv2.COLOR_BGR2GRAY)\r\n",
        "  img = cv2.resize(img, (avg_res[1], avg_res[0]))\r\n",
        "  img = cv2.filter2D(img, -1, kernel)[::factor, ::factor, ...]\r\n",
        "  # feature extraction, student muze vlozit vlastni vektor features\r\n",
        "  train_x[i, ...] = img.flatten() / 255.0\r\n",
        "  train_y[i] = data_dict[img_path]\r\n",
        "  i += 1\r\n",
        "\r\n",
        "train_y[train_y != 0] = -1\r\n",
        "train_y[train_y == 0] = 1"
      ],
      "execution_count": 26,
      "outputs": [
        {
          "output_type": "stream",
          "text": [
            "100%|██████████| 10/10 [00:00<00:00, 30.32it/s]\n"
          ],
          "name": "stderr"
        }
      ]
    },
    {
      "cell_type": "code",
      "metadata": {
        "id": "5PY166Fl7pkE"
      },
      "source": [
        "# https://docs.opencv.org/3.4/d1/d73/tutorial_introduction_to_svm.html\r\n",
        "svm = cv2.ml.SVM_create()\r\n",
        "svm.setType(cv2.ml.SVM_C_SVC)\r\n",
        "svm.setKernel(cv2.ml.SVM_LINEAR)\r\n",
        "svm.setTermCriteria((cv2.TERM_CRITERIA_MAX_ITER, 100, 1e-6))"
      ],
      "execution_count": 29,
      "outputs": []
    },
    {
      "cell_type": "code",
      "metadata": {
        "id": "w_WsPDE37rkz",
        "colab": {
          "base_uri": "https://localhost:8080/"
        },
        "outputId": "81e08bd7-530b-4c51-dfa8-03b51d1eaffd"
      },
      "source": [
        "svm.train(train_x, cv2.ml.ROW_SAMPLE, train_y)"
      ],
      "execution_count": 30,
      "outputs": [
        {
          "output_type": "execute_result",
          "data": {
            "text/plain": [
              "True"
            ]
          },
          "metadata": {
            "tags": []
          },
          "execution_count": 30
        }
      ]
    },
    {
      "cell_type": "code",
      "metadata": {
        "id": "j1-yJhDC7s26",
        "colab": {
          "base_uri": "https://localhost:8080/"
        },
        "outputId": "e0550416-e5c4-466f-e44a-3b67ba21b936"
      },
      "source": [
        "# predikovat ne trenovaci data, ale testovaci\r\n",
        "predictions = np.copy(train_y)\r\n",
        "for i in tqdm(range(train_x.shape[0])):\r\n",
        "  predictions[i] = svm.predict(train_x[i:i+1, ...])[1]\r\n",
        "\r\n",
        "ind = predictions == train_y\r\n",
        "print()\r\n",
        "print(np.sum(ind), np.sum(ind) / train_y.shape[0] * 100)\r\n"
      ],
      "execution_count": 40,
      "outputs": [
        {
          "output_type": "stream",
          "text": [
            "100%|██████████| 10/10 [00:00<00:00, 1564.28it/s]"
          ],
          "name": "stderr"
        },
        {
          "output_type": "stream",
          "text": [
            "\n",
            "10 100.0\n"
          ],
          "name": "stdout"
        },
        {
          "output_type": "stream",
          "text": [
            "\n"
          ],
          "name": "stderr"
        }
      ]
    }
  ]
}