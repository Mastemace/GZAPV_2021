{
  "nbformat": 4,
  "nbformat_minor": 0,
  "metadata": {
    "colab": {
      "name": "Untitled4.ipynb",
      "provenance": [],
      "collapsed_sections": [],
      "authorship_tag": "ABX9TyM4RWad7eNTKL+7CtHLlXG8",
      "include_colab_link": true
    },
    "kernelspec": {
      "name": "python3",
      "display_name": "Python 3"
    }
  },
  "cells": [
    {
      "cell_type": "markdown",
      "metadata": {
        "id": "view-in-github",
        "colab_type": "text"
      },
      "source": [
        "<a href=\"https://colab.research.google.com/github/Mastemace/GZAPV_2021/blob/main/P20038/cannyAndHugh.ipynb\" target=\"_parent\"><img src=\"https://colab.research.google.com/assets/colab-badge.svg\" alt=\"Open In Colab\"/></a>"
      ]
    },
    {
      "cell_type": "code",
      "metadata": {
        "colab": {
          "base_uri": "https://localhost:8080/"
        },
        "id": "ThbjFD3uOKCl",
        "outputId": "effb2974-0e88-4f00-8595-8f18f153cf19"
      },
      "source": [
        "import cv2\r\n",
        "import numpy as np\r\n",
        "\r\n",
        "img = cv2.imread('mordor.jpg', cv2.IMREAD_COLOR)\r\n",
        "# Convert the image to gray-scale\r\n",
        "gray = cv2.cvtColor(img, cv2.COLOR_BGR2GRAY)\r\n",
        "# Find the edges in the image using canny detector\r\n",
        "edges = cv2.Canny(gray, 240,500)\r\n",
        "cv2.imwrite('edges.jpg',edges)\r\n",
        "# Detect points that form a line\r\n",
        "lines = cv2.HoughLinesP(edges, 1, np.pi/180, 240, minLineLength=100, maxLineGap=190)\r\n",
        "# Draw lines on the image\r\n",
        "for line in lines:\r\n",
        "    x1, y1, x2, y2 = line[0]\r\n",
        "    cv2.line(img, (x1, y1), (x2, y2), (255, 0, 0), 3)\r\n",
        "\r\n",
        "# Show result\r\n",
        "cv2.imwrite('final.jpg',img)"
      ],
      "execution_count": 57,
      "outputs": [
        {
          "output_type": "execute_result",
          "data": {
            "text/plain": [
              "True"
            ]
          },
          "metadata": {
            "tags": []
          },
          "execution_count": 57
        }
      ]
    }
  ]
}