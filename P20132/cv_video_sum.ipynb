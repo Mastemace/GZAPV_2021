{
  "nbformat": 4,
  "nbformat_minor": 0,
  "metadata": {
    "colab": {
      "name": "cv_video_sum.ipynb",
      "provenance": [],
      "authorship_tag": "ABX9TyN4xxBjGqP+BxQ2CWsV0tPs"
    },
    "kernelspec": {
      "name": "python3",
      "display_name": "Python 3"
    }
  },
  "cells": [
    {
      "cell_type": "code",
      "metadata": {
        "id": "GLPfRNEnotDy"
      },
      "source": [
        "import cv2 as cv\r\n",
        "import matplotlib.pyplot as plt\r\n",
        "plt.rcParams[\"figure.figsize\"] = (20,20)"
      ],
      "execution_count": 2,
      "outputs": []
    },
    {
      "cell_type": "code",
      "metadata": {
        "id": "5W1QmZLNpCIY"
      },
      "source": [
        "handler = cv.VideoCapture('movie/RedDriver.mp4')\r\n",
        "out = cv.VideoWriter(\"video_out.mp4\", cv.VideoWriter_fourcc(*'mp4v'), 25, (640, 480))\r\n",
        "i = 1\r\n",
        "while(True):\r\n",
        "    ret, frame = handler.read()\r\n",
        "    if ret==False: break\r\n",
        "    frame = cv.cvtColor(frame, cv.COLOR_BGR2RGB)\r\n",
        "    #remove noise\r\n",
        "    frame = cv.GaussianBlur(frame, (11,11), 1)\r\n",
        "    #frame = cv.fastNlMeansDenoisingColored(frame, 5)\r\n",
        "    #save frames\r\n",
        "    name = \"blured_imgs/frame%d.jpg\"%i\r\n",
        "    cv.imwrite(name,frame) \r\n",
        "    i += 1\r\n",
        "\r\n",
        "    out.write(frame)\r\n",
        "    if i==50: break"
      ],
      "execution_count": 10,
      "outputs": []
    },
    {
      "cell_type": "code",
      "metadata": {
        "id": "ham5UTTKqfer"
      },
      "source": [
        "#vid capture to frames\r\n",
        "handler = cv.VideoCapture('movie/RedDriver.mp4')\r\n",
        "out = cv.VideoWriter(\"video_out.mp4\", cv.VideoWriter_fourcc(*'mp4v'), 25, (640, 480))\r\n",
        "i = 1\r\n",
        "while(True):\r\n",
        "    ret, frame = handler.read()\r\n",
        "    if ret==False: break\r\n",
        "    frame = cv.cvtColor(frame, cv.COLOR_BGR2RGB)\r\n",
        "    #save frames\r\n",
        "    name = \"original_imgs/frame%d.jpg\"%i\r\n",
        "    cv.imwrite(name,frame) \r\n",
        "    i += 1\r\n"
      ],
      "execution_count": 8,
      "outputs": []
    }
  ]
}