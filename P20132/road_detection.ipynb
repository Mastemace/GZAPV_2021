{
  "nbformat": 4,
  "nbformat_minor": 0,
  "metadata": {
    "colab": {
      "name": "road_detection.ipynb",
      "provenance": [],
      "authorship_tag": "ABX9TyMw6fyQXy5JvV7Hx39YMwvj"
    },
    "kernelspec": {
      "name": "python3",
      "display_name": "Python 3"
    }
  },
  "cells": [
    {
      "cell_type": "code",
      "metadata": {
        "id": "UmB7C4ljZ9ZF"
      },
      "source": [
        "import cv2 as cv\r\n",
        "from glob import glob\r\n",
        "import numpy as np"
      ],
      "execution_count": 1,
      "outputs": []
    },
    {
      "cell_type": "code",
      "metadata": {
        "colab": {
          "base_uri": "https://localhost:8080/"
        },
        "id": "qm0g-M-MaBx9",
        "outputId": "2326f1e6-7642-49f4-f8a1-ce5a4743476f"
      },
      "source": [
        "img = cv.imread('road.jpg')\r\n",
        "gray = cv.cvtColor(img, cv.COLOR_BGR2GRAY)\r\n",
        "edges = cv.Canny(gray, 255, 255)\r\n",
        "cv.imwrite('road_lines.jpg', edges)\r\n",
        "\r\n",
        "lines = cv.HoughLinesP(edges, 1, np.pi/180, 280, minLineLength=100, maxLineGap=255)\r\n",
        "\r\n",
        "for line in lines:\r\n",
        "    x1, y1, x2, y2 = line[0]\r\n",
        "    cv.line(img, (x1, y1), (x2, y2), (255, 0, 0), 3)\r\n",
        "\r\n",
        "cv.imwrite('road_out.jpg', img)"
      ],
      "execution_count": 63,
      "outputs": [
        {
          "output_type": "execute_result",
          "data": {
            "text/plain": [
              "True"
            ]
          },
          "metadata": {
            "tags": []
          },
          "execution_count": 63
        }
      ]
    }
  ]
}