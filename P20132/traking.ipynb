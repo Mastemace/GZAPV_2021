{
  "nbformat": 4,
  "nbformat_minor": 0,
  "metadata": {
    "colab": {
      "name": "traking.ipynb",
      "provenance": [],
      "collapsed_sections": [],
      "mount_file_id": "14j-itLmvbi5QHOCHeo2tnStLOlt4dq7Q",
      "authorship_tag": "ABX9TyPWjPcyf8+zTQUO29aRQCo8"
    },
    "kernelspec": {
      "display_name": "Python 3",
      "name": "python3"
    }
  },
  "cells": [
    {
      "cell_type": "code",
      "metadata": {
        "id": "aX5BUCIkN--m"
      },
      "source": [
        "import cv2 as cv\r\n",
        "from google.colab.patches import cv_imshow\r\n",
        "import numpy as np"
      ],
      "execution_count": null,
      "outputs": []
    },
    {
      "cell_type": "code",
      "metadata": {
        "id": "BQUcNtoeON8l"
      },
      "source": [
        "tracker = cv.TrackerKCF_create()\r\n",
        "video = cv.VideoCapture('/content/drive/MyDrive/GZAPV/face.mp4')\r\n",
        "face_cascade = cv.CascadeClassifier('/content/drive/MyDrive/GZAPV/haarcascade_frontalface_default.xml')     #chleba\r\n",
        "tracking     = False\r\n",
        "\r\n",
        "while(True): \r\n",
        "    ret, frame = video.read() \r\n",
        "    if ret==False: break\r\n",
        "    \r\n",
        "    if tracking == False: #jsem v prvnim framu, nebo v n-tem, ale padnul tracker tzn musim najit oblicej\r\n",
        "        faces = face_cascade.detectMultiScale(cv.cvtColor(frame, cv.COLOR_BGR2GRAY), 1.5, 1)\r\n",
        "        if (len(faces)>0):\r\n",
        "            face     = faces[0]\r\n",
        "            tracker  = cv.TrackerCSRT_create()\r\n",
        "            tracking = tracker.init(frame, tuple(face))\r\n",
        "        else:\r\n",
        "            face     = (0, 0, 0, 0)\r\n",
        "        continue\r\n",
        "    else: #mam uz nalezeny oblicej a chci ho trackovat\r\n",
        "        tracking, face = tracker.update(frame)\r\n",
        "        if tracking == False: face = (0, 0, 0, 0)\r\n",
        "            \r\n",
        "    cv.rectangle(frame, (int(face[0]),int(face[1])), (int(face[0]+face[2]),int(face[1]+face[3])), (255,0,0), 2)     \r\n",
        "    cv_imshow(frame) \r\n",
        "    if cv.waitKey(1) & 0xFF == ord('q'): break\r\n",
        "\r\n",
        "video.release() \r\n"
      ],
      "execution_count": null,
      "outputs": []
    }
  ]
}