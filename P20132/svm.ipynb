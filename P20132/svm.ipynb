{
  "nbformat": 4,
  "nbformat_minor": 0,
  "metadata": {
    "colab": {
      "name": "svm.ipynb",
      "provenance": [],
      "mount_file_id": "1gFYzQstcBr436ks_MhwqUTuDpSMK1cUt",
      "authorship_tag": "ABX9TyO71Okc6QP9u9haRmV6yoLs",
      "include_colab_link": true
    },
    "kernelspec": {
      "name": "python3",
      "display_name": "Python 3"
    }
  },
  "cells": [
    {
      "cell_type": "markdown",
      "metadata": {
        "id": "view-in-github",
        "colab_type": "text"
      },
      "source": [
        "<a href=\"https://colab.research.google.com/github/Mastemace/GZAPV_2021/blob/main/P20132/svm.ipynb\" target=\"_parent\"><img src=\"https://colab.research.google.com/assets/colab-badge.svg\" alt=\"Open In Colab\"/></a>"
      ]
    },
    {
      "cell_type": "code",
      "metadata": {
        "id": "oWpbtS6c8IGa"
      },
      "source": [
        "import numpy as np\r\n",
        "import cv2\r\n",
        "import pandas\r\n",
        "import glob\r\n",
        "import math\r\n",
        "from tqdm import tqdm\r\n",
        "from scipy.signal import triang"
      ],
      "execution_count": 15,
      "outputs": []
    },
    {
      "cell_type": "code",
      "metadata": {
        "colab": {
          "base_uri": "https://localhost:8080/"
        },
        "id": "HeimXdkU8M9I",
        "outputId": "165f7037-55e7-46be-8552-1ca18142d606"
      },
      "source": [
        "!rm -rf /content/train\r\n",
        "!unzip /content/drive/MyDrive/GZAPV/sample.zip -d /content"
      ],
      "execution_count": 74,
      "outputs": [
        {
          "output_type": "stream",
          "text": [
            "Archive:  /content/drive/MyDrive/GZAPV/sample.zip\n",
            "replace /content/sample/10_left.jpeg? [y]es, [n]o, [A]ll, [N]one, [r]ename: A\n",
            "  inflating: /content/sample/10_left.jpeg  \n",
            "  inflating: /content/sample/10_right.jpeg  \n",
            "  inflating: /content/sample/13_left.jpeg  \n",
            "  inflating: /content/sample/13_right.jpeg  \n",
            "  inflating: /content/sample/15_left.jpeg  \n",
            "  inflating: /content/sample/15_right.jpeg  \n",
            "  inflating: /content/sample/16_left.jpeg  \n",
            "  inflating: /content/sample/16_right.jpeg  \n",
            "  inflating: /content/sample/17_left.jpeg  \n",
            "  inflating: /content/sample/17_right.jpeg  \n"
          ],
          "name": "stdout"
        }
      ]
    },
    {
      "cell_type": "code",
      "metadata": {
        "id": "K1WOqNBd-afw"
      },
      "source": [
        "train_img_paths = glob.glob('sample/*.jpeg')\r\n",
        "train_img_names = [img_path.split('/')[-1].split('.')[0] for img_path in train_img_paths]\r\n",
        "train_data = zip(train_img_paths, train_img_names)"
      ],
      "execution_count": 26,
      "outputs": []
    },
    {
      "cell_type": "code",
      "metadata": {
        "colab": {
          "base_uri": "https://localhost:8080/"
        },
        "id": "BLCUz8yI8S6N",
        "outputId": "3a33200d-ca6e-4c18-9ad3-3298d160cb3c"
      },
      "source": [
        "df = pandas.read_csv('/content/drive/MyDrive/GZAPV/trainLabels.csv')\r\n",
        "data_dict = {}\r\n",
        "for train_img_path ,train_img_name in train_data:\r\n",
        "  row = df.loc[df['image'] == train_img_name]\r\n",
        "  label = row.iloc[0]['level']\r\n",
        "  data_dict[train_img_path] = label\r\n",
        "\r\n",
        "print(data_dict)"
      ],
      "execution_count": 27,
      "outputs": [
        {
          "output_type": "stream",
          "text": [
            "{'sample/15_right.jpeg': 2, 'sample/13_left.jpeg': 0, 'sample/15_left.jpeg': 1, 'sample/16_left.jpeg': 4, 'sample/13_right.jpeg': 0, 'sample/10_left.jpeg': 0, 'sample/17_right.jpeg': 1, 'sample/17_left.jpeg': 0, 'sample/16_right.jpeg': 4, 'sample/10_right.jpeg': 0}\n"
          ],
          "name": "stdout"
        }
      ]
    },
    {
      "cell_type": "code",
      "metadata": {
        "id": "KmFVfpc1JYlx"
      },
      "source": [
        "def separation_folder_hough(paths, out_dir):\r\n",
        "    for path in paths:\r\n",
        "        base_name = path.split('/')[1]\r\n",
        "        img  = cv2.imread(path)\r\n",
        "        gray = cv2.cvtColor(img, cv2.COLOR_BGR2GRAY) \r\n",
        "        circles = cv2.HoughCircles(gray, cv2.HOUGH_GRADIENT, 10, 10, minRadius = 900, maxRadius = 1700)\r\n",
        "        circle  = circles[0][0]\r\n",
        "        circle[2] *= 1.05\r\n",
        "        \r\n",
        "        min_x = np.clip(int(circle[0]-circle[2]), 0, img.shape[1]-1)\r\n",
        "        max_x = np.clip(int(circle[0]+circle[2]), 0, img.shape[1]-1)\r\n",
        "        min_y = np.clip(int(circle[1]-circle[2]), 0, img.shape[0]-1)\r\n",
        "        max_y = np.clip(int(circle[1]+circle[2]), 0, img.shape[0]-1)\r\n",
        "        \r\n",
        "        img = img[min_y:max_y, min_x:max_x, ...]\r\n",
        "        cv2.imwrite(out_dir+'/'+base_name, img)    \r\n",
        "        \r\n",
        "        \r\n",
        "def resize_folder(paths, out_dir, out_res):\r\n",
        "    for path in paths:\r\n",
        "        base_name = path.split('/')[1]\r\n",
        "        img  = cv2.imread(path)\r\n",
        "       \r\n",
        "        #preskalovani, aby vetsi strana byla rovna out_res\r\n",
        "        if img.shape[0]>img.shape[1]:\r\n",
        "            dx = int(out_res/img.shape[0] * img.shape[1])\r\n",
        "            img = cv2.resize(img, (dx, out_res), interpolation = cv2.INTER_LANCZOS4)\r\n",
        "        else:\r\n",
        "            dy = int(out_res/img.shape[1] * img.shape[0])\r\n",
        "            img = cv2.resize(img, (out_res, dy), interpolation = cv2.INTER_LANCZOS4)\r\n",
        "            \r\n",
        "        #vycentrovani    \r\n",
        "        sy = (out_res-img.shape[0])//2\r\n",
        "        sx = (out_res-img.shape[1])//2\r\n",
        "\r\n",
        "        #vlozeni do ctvercoveho obrazku\r\n",
        "        out_img = np.zeros((out_res, out_res, 3))\r\n",
        "        out_img[sy:img.shape[0]+sy, sx:img.shape[1]+sx, ...] = img\r\n",
        "        \r\n",
        "        cv2.imwrite(out_dir+'/'+base_name, out_img)\r\n",
        "def equalize(paths, out_dir):\r\n",
        "  for path in paths:\r\n",
        "    base_name = path.split('/')[1]\r\n",
        "    img  = cv2.imread(path)\r\n",
        "\r\n",
        "    img = cv2.cvtColor(img, cv2.COLOR_BGR2LAB);\r\n",
        "    clahe = cv2.createCLAHE(clipLimit = 1.0, tileGridSize = (8,8))\r\n",
        "    img[...,0] = clahe.apply(img[...,0])\r\n",
        "    img = cv2.cvtColor(img, cv2.COLOR_LAB2BGR)\r\n",
        "    cv2.imwrite(out_dir+'/'+base_name, img)\r\n",
        "  "
      ],
      "execution_count": 46,
      "outputs": []
    },
    {
      "cell_type": "code",
      "metadata": {
        "colab": {
          "base_uri": "https://localhost:8080/"
        },
        "id": "-rwy8v1489tK",
        "outputId": "5384d59c-d2df-4036-d9ea-05b364387dc0"
      },
      "source": [
        "# TODO - studenti pouziji houghovu transformaci z githubu od Petra na oriznuti\r\n",
        "separation_folder_hough(train_img_paths, 'sample')\r\n",
        "resize_folder(train_img_paths, 'sample', 1024)\r\n",
        "equalize(train_img_paths, 'sample')             #opakovaným  spuštěním se mění kvalita obrázku\r\n",
        "\r\n",
        "avg_res  = [1024, 1024]\r\n",
        "print(avg_res)"
      ],
      "execution_count": 75,
      "outputs": [
        {
          "output_type": "stream",
          "text": [
            "[1024, 1024]\n"
          ],
          "name": "stdout"
        }
      ]
    },
    {
      "cell_type": "code",
      "metadata": {
        "colab": {
          "base_uri": "https://localhost:8080/"
        },
        "id": "l_-j3hW39CUq",
        "outputId": "ba966da2-1762-4504-cd2a-37beb4774c51"
      },
      "source": [
        "factor = 1\r\n",
        "len(data_dict.keys()) * (avg_res[0] / factor) * (avg_res[1] / factor) * 1 * 32 / 8 / 1024 / 1024 / 1024"
      ],
      "execution_count": 62,
      "outputs": [
        {
          "output_type": "execute_result",
          "data": {
            "text/plain": [
              "0.0390625"
            ]
          },
          "metadata": {
            "tags": []
          },
          "execution_count": 62
        }
      ]
    },
    {
      "cell_type": "code",
      "metadata": {
        "id": "FsNUhF9S9E--"
      },
      "source": [
        "train_x = np.zeros((len(data_dict.keys()), math.ceil(avg_res[0] / factor) * math.ceil(avg_res[1] / factor)), dtype=np.float32)\r\n",
        "train_y = np.zeros(len(data_dict.keys()), dtype=np.int32)"
      ],
      "execution_count": 72,
      "outputs": []
    },
    {
      "cell_type": "code",
      "metadata": {
        "id": "5lr8tGef9LfD"
      },
      "source": [
        "# vyzkouset jiny konvolucni kernel\r\n",
        "tr = triang(factor*2+1).reshape(factor*2+1, 1)\r\n",
        "kernel = np.dot(tr, tr.T)\r\n",
        "kernel /= np.sum(kernel)"
      ],
      "execution_count": 64,
      "outputs": []
    },
    {
      "cell_type": "code",
      "metadata": {
        "colab": {
          "base_uri": "https://localhost:8080/"
        },
        "id": "g29PP_u79PGr",
        "outputId": "6ee03c18-3ec2-430b-aded-bb6d67b6cc19"
      },
      "source": [
        "i = 0\r\n",
        "for img_path in tqdm(data_dict.keys()):\r\n",
        "  img = cv2.imread(img_path)\r\n",
        "  img = cv2.cvtColor(img, cv2.COLOR_BGR2GRAY)\r\n",
        "  img = cv2.resize(img, (avg_res[1], avg_res[0]))\r\n",
        "  img = cv2.filter2D(img, -1, kernel)[::factor, ::factor, ...]\r\n",
        "  # feature extraction, student muze vlozit vlastni vektor features\r\n",
        "  train_x[i, ...] = img.flatten() / 255.0\r\n",
        "  train_y[i] = data_dict[img_path]\r\n",
        "  i += 1\r\n",
        "\r\n",
        "train_y[train_y != 0] = -1\r\n",
        "train_y[train_y == 0] = 1"
      ],
      "execution_count": 65,
      "outputs": [
        {
          "output_type": "stream",
          "text": [
            "100%|██████████| 10/10 [00:00<00:00, 39.63it/s]\n"
          ],
          "name": "stderr"
        }
      ]
    },
    {
      "cell_type": "code",
      "metadata": {
        "id": "601-m4Az9RfW"
      },
      "source": [
        "# https://docs.opencv.org/3.4/d1/d73/tutorial_introduction_to_svm.html\r\n",
        "svm = cv2.ml.SVM_create()\r\n",
        "svm.setType(cv2.ml.SVM_C_SVC)\r\n",
        "svm.setKernel(cv2.ml.SVM_LINEAR)\r\n",
        "svm.setTermCriteria((cv2.TERM_CRITERIA_MAX_ITER, 100, 1e-6))"
      ],
      "execution_count": 66,
      "outputs": []
    },
    {
      "cell_type": "code",
      "metadata": {
        "colab": {
          "base_uri": "https://localhost:8080/"
        },
        "id": "IEeP3Nv_9mP5",
        "outputId": "c6301f48-28ce-48e4-8f8a-c819a4ace96a"
      },
      "source": [
        "svm.train(train_x, cv2.ml.ROW_SAMPLE, train_y)"
      ],
      "execution_count": 67,
      "outputs": [
        {
          "output_type": "execute_result",
          "data": {
            "text/plain": [
              "True"
            ]
          },
          "metadata": {
            "tags": []
          },
          "execution_count": 67
        }
      ]
    },
    {
      "cell_type": "code",
      "metadata": {
        "colab": {
          "base_uri": "https://localhost:8080/"
        },
        "id": "XIBO3qkn9m-i",
        "outputId": "cece848c-5482-4eae-81ce-9ef36f58b000"
      },
      "source": [
        "# predikovat ne trenovaci data, ale testovaci\r\n",
        "predictions = np.copy(train_y)\r\n",
        "for i in tqdm(range(train_x.shape[0])):\r\n",
        "  predictions[i] = svm.predict(train_x[i:i+1, ...])[1]\r\n",
        "\r\n",
        "ind = predictions == train_y\r\n",
        "print(np.sum(ind), np.sum(ind) / train_y.shape[0] * 100)"
      ],
      "execution_count": 70,
      "outputs": [
        {
          "output_type": "stream",
          "text": [
            "100%|██████████| 10/10 [00:00<00:00, 1034.33it/s]"
          ],
          "name": "stderr"
        },
        {
          "output_type": "stream",
          "text": [
            "10 100.0\n"
          ],
          "name": "stdout"
        },
        {
          "output_type": "stream",
          "text": [
            "\n"
          ],
          "name": "stderr"
        }
      ]
    }
  ]
}