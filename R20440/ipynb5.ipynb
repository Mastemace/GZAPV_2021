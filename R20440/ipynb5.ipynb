{
  "nbformat": 4,
  "nbformat_minor": 0,
  "metadata": {
    "colab": {
      "name": "Untitled5.ipynb",
      "provenance": []
    },
    "kernelspec": {
      "name": "python3",
      "display_name": "Python 3"
    },
    "language_info": {
      "name": "python"
    }
  },
  "cells": [
    {
      "cell_type": "code",
      "metadata": {
        "id": "9HDiiJFcO8ri"
      },
      "source": [
        "import numpy as np\n",
        "import cv2 as cv\n",
        "import pandas\n",
        "from glob import glob\n",
        "import math\n",
        "from tqdm import tqdm\n",
        "from scipy.signal import triang"
      ],
      "execution_count": null,
      "outputs": []
    },
    {
      "cell_type": "code",
      "metadata": {
        "id": "joNNlQQ-Pc4J"
      },
      "source": [
        "train_img_paths = glob('train/*.jpeg')\n",
        "train_img_names = [img_path.split('/')[-1].split('.')[0] for img_path in train_img_paths]\n",
        "train_data = zip(train_img_paths, train_img_names)"
      ],
      "execution_count": null,
      "outputs": []
    },
    {
      "cell_type": "code",
      "metadata": {
        "id": "JgVv01dJPf-1"
      },
      "source": [
        "df = pandas.read_csv('trainLabels.csv')\n",
        "data_dict = {}\n",
        "for train_img_path ,train_img_name in train_data:\n",
        "  row = df.loc[df['image'] == train_img_name]\n",
        "  label = row.iloc[0]['level']\n",
        "  data_dict[train_img_path] = label\n",
        "\n",
        "print(data_dict)"
      ],
      "execution_count": null,
      "outputs": []
    },
    {
      "cell_type": "code",
      "metadata": {
        "id": "Ubtx49O9PmKb"
      },
      "source": [
        "def separation_folder_hough(paths, out_dir):\n",
        "    for path in paths:\n",
        "        base_name = path.split('/')[1]\n",
        "        img  = cv.imread(path)\n",
        "        gray = cv.cvtColor(img, cv.COLOR_BGR2GRAY) \n",
        "        circles = cv.HoughCircles(gray, cv.HOUGH_GRADIENT, 10, 10, minRadius = 900, maxRadius = 1700)\n",
        "        circle  = circles[0][0]\n",
        "        circle[2] *= 1.05\n",
        "        \n",
        "        min_x = np.clip(int(circle[0]-circle[2]), 0, img.shape[1]-1)\n",
        "        max_x = np.clip(int(circle[0]+circle[2]), 0, img.shape[1]-1)\n",
        "        min_y = np.clip(int(circle[1]-circle[2]), 0, img.shape[0]-1)\n",
        "        max_y = np.clip(int(circle[1]+circle[2]), 0, img.shape[0]-1)\n",
        "        \n",
        "        img = img[min_y:max_y, min_x:max_x, ...]\n",
        "        cv.imwrite(out_dir+'/'+base_name, img)    \n",
        "        \n",
        "        \n",
        "def resize_folder(paths, out_dir, out_res):\n",
        "    for path in paths:\n",
        "        base_name = path.split('/')[1]\n",
        "        img  = cv.imread(path)\n",
        "       \n",
        "        #preskalovani, aby vetsi strana byla rovna out_res\n",
        "        if img.shape[0]>img.shape[1]:\n",
        "            dx = int(out_res/img.shape[0] * img.shape[1])\n",
        "            img = cv.resize(img, (dx, out_res), interpolation = cv.INTER_LANCZOS4)\n",
        "        else:\n",
        "            dy = int(out_res/img.shape[1] * img.shape[0])\n",
        "            img = cv.resize(img, (out_res, dy), interpolation = cv.INTER_LANCZOS4)\n",
        "            \n",
        "        #vycentrovani    \n",
        "        sy = (out_res-img.shape[0])//2\n",
        "        sx = (out_res-img.shape[1])//2\n",
        "\n",
        "        #vlozeni do ctvercoveho obrazku\n",
        "        out_img = np.zeros((out_res, out_res, 3))\n",
        "        out_img[sy:img.shape[0]+sy, sx:img.shape[1]+sx, ...] = img\n",
        "        \n",
        "        cv2.imwrite(out_dir+'/'+base_name, out_img)\n",
        "def equalize(paths, out_dir):\n",
        "  for path in paths:\n",
        "    base_name = path.split('/')[1]\n",
        "    img  = cv.imread(path)\n",
        "\n",
        "    img = cv.cvtColor(img, cv.COLOR_BGR2LAB);\n",
        "    clahe = cv.createCLAHE(clipLimit = 1.0, tileGridSize = (8,8))\n",
        "    img[...,0] = clahe.apply(img[...,0])\n",
        "    img = cv.cvtColor(img, cv.COLOR_LAB2BGR)\n",
        "    cv.imwrite(out_dir+'/'+base_name, img)"
      ],
      "execution_count": null,
      "outputs": []
    },
    {
      "cell_type": "code",
      "metadata": {
        "id": "nG8tJhTFP55A"
      },
      "source": [
        "separation_folder_hough(train_img_paths, 'sample')\n",
        "resize_folder(train_img_paths, 'sample', 1024)\n",
        "equalize(train_img_paths, 'sample')            \n",
        "\n",
        "avg_res  = [1024, 1024]\n",
        "print(avg_res)"
      ],
      "execution_count": null,
      "outputs": []
    },
    {
      "cell_type": "code",
      "metadata": {
        "id": "4cTzL74XP_I4"
      },
      "source": [
        "factor = 1\n",
        "len(data_dict.keys()) * (avg_res[0] / factor) * (avg_res[1] / factor) * 1 * 32 / 8 / 1024 / 1024 / 1024"
      ],
      "execution_count": null,
      "outputs": []
    },
    {
      "cell_type": "code",
      "metadata": {
        "id": "8bRf31oZQB92"
      },
      "source": [
        "train_x = np.zeros((len(data_dict.keys()), math.ceil(avg_res[0] / factor) * math.ceil(avg_res[1] / factor)), dtype=np.float32)\n",
        "train_y = np.zeros(len(data_dict.keys()), dtype=np.int32)"
      ],
      "execution_count": null,
      "outputs": []
    },
    {
      "cell_type": "code",
      "metadata": {
        "id": "7fsmevSIQEn9"
      },
      "source": [
        "tr = triang(factor*2+1).reshape(factor*2+1, 1)\n",
        "kernel = np.dot(tr, tr.T)\n",
        "kernel /= np.sum(kernel)"
      ],
      "execution_count": null,
      "outputs": []
    },
    {
      "cell_type": "code",
      "metadata": {
        "id": "EYI1HneCQIFV"
      },
      "source": [
        "i = 0\n",
        "for img_path in tqdm(data_dict.keys()):\n",
        "  img = cv.imread(img_path)\n",
        "  img = cv.cvtColor(img, cv.COLOR_BGR2GRAY)\n",
        "  img = cv.resize(img, (avg_res[1], avg_res[0]))\n",
        "  img = cv.filter2D(img, -1, kernel)[::factor, ::factor, ...]\n",
        "  # feature extraction, student muze vlozit vlastni vektor features\n",
        "  train_x[i, ...] = img.flatten() / 255.0\n",
        "  train_y[i] = data_dict[img_path]\n",
        "  i += 1\n",
        "\n",
        "train_y[train_y != 0] = -1\n",
        "train_y[train_y == 0] = 1"
      ],
      "execution_count": null,
      "outputs": []
    },
    {
      "cell_type": "code",
      "metadata": {
        "id": "TNWSejKnQQKY"
      },
      "source": [
        "svm = cv.ml.SVM_create()\n",
        "svm.setType(cv.ml.SVM_C_SVC)\n",
        "svm.setKernel(cv.ml.SVM_LINEAR)\n",
        "svm.setTermCriteria((cv.TERM_CRITERIA_MAX_ITER, 100, 1e-6))"
      ],
      "execution_count": null,
      "outputs": []
    },
    {
      "cell_type": "code",
      "metadata": {
        "id": "SuRxQ_k3QTdO"
      },
      "source": [
        "svm.train(train_x, cv2.ml.ROW_SAMPLE, train_y)"
      ],
      "execution_count": null,
      "outputs": []
    },
    {
      "cell_type": "code",
      "metadata": {
        "id": "TpQG2M07QWeH"
      },
      "source": [
        "predictions = np.copy(train_y)\n",
        "for i in tqdm(range(train_x.shape[0])):\n",
        "  predictions[i] = svm.predict(train_x[i:i+1, ...])[1]\n",
        "\n",
        "ind = predictions == train_y\n",
        "print(np.sum(ind), np.sum(ind) / train_y.shape[0] * 100)"
      ],
      "execution_count": null,
      "outputs": []
    }
  ]
}