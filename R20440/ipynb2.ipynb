{
  "nbformat": 4,
  "nbformat_minor": 0,
  "metadata": {
    "colab": {
      "name": "Untitled2.ipynb",
      "provenance": []
    },
    "kernelspec": {
      "name": "python3",
      "display_name": "Python 3"
    },
    "language_info": {
      "name": "python"
    }
  },
  "cells": [
    {
      "cell_type": "code",
      "metadata": {
        "id": "9hKJbfXgNPxv"
      },
      "source": [
        "import cv2 as cv"
      ],
      "execution_count": null,
      "outputs": []
    },
    {
      "cell_type": "code",
      "metadata": {
        "id": "BJStd8f6NU2_"
      },
      "source": [
        "\n",
        "handler = cv.VideoCapture('RedDriver.mp4')\n",
        "out = cv.VideoWriter(\"video.mp4\", cv.VideoWriter_fourcc(*'mp4v'), 25, (640, 480))\n",
        "i = 1\n",
        "while(True):\n",
        "    ret, frame = handler.read()\n",
        "    if ret==False: break\n",
        "    frame = cv.cvtColor(frame, cv.COLOR_BGR2RGB)\n",
        "    frame = cv.fastNlMeansDenoisingColored(frame, 5)\n",
        "    name = \"images/frame%d.jpg\"%i\n",
        "    cv.imwrite(name,frame) \n",
        "    i += 1\n",
        "    out.write(frame)"
      ],
      "execution_count": null,
      "outputs": []
    }
  ]
}