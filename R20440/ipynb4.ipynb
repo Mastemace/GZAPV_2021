{
  "nbformat": 4,
  "nbformat_minor": 0,
  "metadata": {
    "colab": {
      "name": "Untitled4.ipynb",
      "provenance": []
    },
    "kernelspec": {
      "name": "python3",
      "display_name": "Python 3"
    },
    "language_info": {
      "name": "python"
    }
  },
  "cells": [
    {
      "cell_type": "code",
      "metadata": {
        "id": "N44xNwnLOuhI"
      },
      "source": [
        "\n",
        "import cv2 as cv\n",
        "import matplotlib.pyplot as plt"
      ],
      "execution_count": null,
      "outputs": []
    },
    {
      "cell_type": "code",
      "metadata": {
        "id": "f1KTCo70OwJG"
      },
      "source": [
        "\n",
        "img  = cv.imread('test_clahe.jpg')\n",
        "plt.figure(figsize=(20,20))\n",
        "plt.imshow(img)"
      ],
      "execution_count": null,
      "outputs": []
    },
    {
      "cell_type": "code",
      "metadata": {
        "id": "D2soDn0wOxm8"
      },
      "source": [
        "img  = cv.imread('test_clahe.jpg')\n",
        "img = cv.cvtColor(img, cv.COLOR_BGR2LAB);\n",
        "clahe = cv.createCLAHE(clipLimit = 1.0, tileGridSize = (8,8))\n",
        "img[...,0] = clahe.apply(img[...,0])\n",
        "img = cv.cvtColor(img, cv.COLOR_LAB2BGR)\n",
        "cv.imwrite('res_clahe.jpg',img)\n",
        "plt.figure(figsize=(20,20))\n",
        "plt.imshow(img)"
      ],
      "execution_count": null,
      "outputs": []
    }
  ]
}
