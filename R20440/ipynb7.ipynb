{
  "nbformat": 4,
  "nbformat_minor": 0,
  "metadata": {
    "colab": {
      "name": "Untitled7.ipynb",
      "provenance": []
    },
    "kernelspec": {
      "name": "python3",
      "display_name": "Python 3"
    },
    "language_info": {
      "name": "python"
    }
  },
  "cells": [
    {
      "cell_type": "code",
      "metadata": {
        "id": "kXq6NFjARqYU"
      },
      "source": [
        "import numpy as np\n",
        "import cv2 as cv\n",
        "import matplotlib.pyplot as plt\n",
        "import math"
      ],
      "execution_count": null,
      "outputs": []
    },
    {
      "cell_type": "code",
      "metadata": {
        "id": "6Dk_MfOPRrrv"
      },
      "source": [
        "def visualize(scale, *images):\n",
        "  figsize = ( images[0].shape[0] / max(images[0].shape[:2]) * scale, images[0].shape[1] / max(images[0].shape[:2]) * scale * len(images) )\n",
        "  plt.figure(figsize=figsize)\n",
        "  i = 1\n",
        "  for id in range(len(images)):\n",
        "    plt.subplot(1,len(images), i)\n",
        "    plt.imshow(images[id])\n",
        "    i += 1\n",
        "\n",
        "\n",
        "img1 = cv.cvtColor(cv.imread('left_tr.jpg'), cv.COLOR_BGR2RGB)\n",
        "img2 = cv.cvtColor(cv.imread('right.jpg'), cv.COLOR_BGR2RGB)\n",
        "visualize(20, img1, img2)"
      ],
      "execution_count": null,
      "outputs": []
    },
    {
      "cell_type": "code",
      "metadata": {
        "id": "YH6ljil_R0fG"
      },
      "source": [
        "akaze = cv.AKAZE_create()\n",
        "keypoints1, descriptors1 = akaze.detectAndCompute(img1, None)\n",
        "keypoints2, descriptors2 = akaze.detectAndCompute(img2, None)\n",
        "\n",
        "out1 = cv.drawKeypoints(img1, keypoints1, None, (255, 0, 255))\n",
        "out2 = cv.drawKeypoints(img2, keypoints2, None, (255, 0, 255))\n",
        "visualize(20, out1, out2)"
      ],
      "execution_count": null,
      "outputs": []
    },
    {
      "cell_type": "code",
      "metadata": {
        "id": "p45jmI2JR3-b"
      },
      "source": [
        "matcher = cv.BFMatcher_create(cv.NORM_L2)\n",
        "matches = matcher.knnMatch(descriptors1, descriptors2,k=2)\n",
        "all_matches = [m for m,n in matches]\n",
        "out = cv.drawMatches(img1, keypoints1, img2, keypoints2, all_matches, None)\n",
        "visualize(40, out)"
      ],
      "execution_count": null,
      "outputs": []
    },
    {
      "cell_type": "code",
      "metadata": {
        "id": "RZRUCLHgR8ZO"
      },
      "source": [
        "good = []\n",
        "for m, n in matches:\n",
        "    if m.distance < 0.6 * n.distance:\n",
        "        good.append(m)\n",
        "\n",
        "viz = cv.drawMatches(img1,keypoints1,img2,keypoints2,good,None)\n",
        "visualize(60, viz)"
      ],
      "execution_count": null,
      "outputs": []
    },
    {
      "cell_type": "code",
      "metadata": {
        "id": "YgLUVDgzR_8A"
      },
      "source": [
        "def warpImages(img1, img2, H):\n",
        "\n",
        "  rows1, cols1 = img1.shape[:2]\n",
        "  rows2, cols2 = img2.shape[:2]\n",
        "\n",
        "  list_of_points_1 = np.float32([[0,0], [0, rows1],[cols1, rows1], [cols1, 0]]).reshape(-1, 1, 2)\n",
        "  temp_points = np.float32([[0,0], [0,rows2], [cols2,rows2], [cols2,0]]).reshape(-1,1,2)\n",
        "\n",
        "  list_of_points_2 = cv.perspectiveTransform(temp_points, H)\n",
        "\n",
        "  list_of_points = np.concatenate((list_of_points_1,list_of_points_2), axis=0)\n",
        "  \n",
        "  [x_min, y_min] = np.int32(list_of_points.min(axis=0).ravel() - 0.5)\n",
        "  [x_max, y_max] = np.int32(list_of_points.max(axis=0).ravel() + 0.5)\n",
        "  \n",
        "  translation_dist = [-x_min,-y_min]\n",
        "  \n",
        "  H_translation = np.array([[1, 0, translation_dist[0]], [0, 1, translation_dist[1]], [0, 0, 1]])\n",
        "\n",
        "  output_img = cv.warpPerspective(img2, H_translation.dot(H), (x_max-x_min, y_max-y_min))\n",
        "  output_img[translation_dist[1]:rows1+translation_dist[1], translation_dist[0]:cols1+translation_dist[0]] = img1\n",
        "\n",
        "  return output_img"
      ],
      "execution_count": null,
      "outputs": []
    },
    {
      "cell_type": "code",
      "metadata": {
        "id": "0TDXuTsxSHkd"
      },
      "source": [
        "MIN_MATCH_COUNT = 10\n",
        "\n",
        "if len(good) > MIN_MATCH_COUNT:\n",
        "    src_pts = np.float32([ keypoints1[m.queryIdx].pt for m in good]).reshape(-1,1,2)\n",
        "    dst_pts = np.float32([ keypoints2[m.trainIdx].pt for m in good]).reshape(-1,1,2)\n",
        "\n",
        "    M, _ = cv.findHomography(src_pts, dst_pts, cv2.RANSAC,5.0)\n",
        "    \n",
        "    result = warpImages(img2, img1, M)\n",
        "\n",
        "visualize(30, result)"
      ],
      "execution_count": null,
      "outputs": []
    }
  ]
}