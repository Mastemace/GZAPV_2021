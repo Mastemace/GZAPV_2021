{
  "nbformat": 4,
  "nbformat_minor": 0,
  "metadata": {
    "colab": {
      "name": "Untitled1.ipynb",
      "provenance": []
    },
    "kernelspec": {
      "name": "python3",
      "display_name": "Python 3"
    },
    "language_info": {
      "name": "python"
    }
  },
  "cells": [
    {
      "cell_type": "code",
      "metadata": {
        "id": "hfCB4NN2L-sp"
      },
      "source": [
        "\n",
        "import cv2 as cv\n",
        "import numpy as np"
      ],
      "execution_count": null,
      "outputs": []
    },
    {
      "cell_type": "code",
      "metadata": {
        "id": "SpH8PrTEMT5a"
      },
      "source": [
        "tr = cv.TrackerKCF_create()"
      ],
      "execution_count": null,
      "outputs": []
    },
    {
      "cell_type": "code",
      "metadata": {
        "id": "zYSuTwvQMV1m"
      },
      "source": [
        "video = cv.VideoCapture('face.mp4');\n",
        "chleba = cv.CascadeClassifier('data/haarcascade_frontalface_default.xml')\n",
        "\n",
        "tracking = False\n",
        "\n",
        "while True:\n",
        "    ret, frame = video.read()\n",
        "    if ret == False:\n",
        "        break\n",
        "        \n",
        "    if tracking == False:\n",
        "        obliceje = chleba.detectMultiScale(frame, 1.3, 5)\n",
        "    \n",
        "        if(len(obliceje) > 0):\n",
        "            oblicej = obliceje[0]\n",
        "            tr = cv.TrackerCSRT_create()\n",
        "            tracking = tr.init(frame, tuple(oblicej))\n",
        "        else: \n",
        "            oblicej = (0,0,0,0)\n",
        "        continue      \n",
        "    else:\n",
        "        tracking, oblicej = tr.update(frame)\n",
        "        if tracking==False:\n",
        "            falce = (0,0,0,0)\n",
        "  \n",
        "    frame = cv.rectangle(frame, (int(oblicej[0]), int(oblicej[1])), (int(oblicej[0]+oblicej[2]), int(oblicej[1]+oblicej[3])), (255, 0, 0), 5)\n",
        "    cv.imshow('', frame)\n",
        "    if cv.waitKey(1) &0xff == ord('q'): break\n",
        "\n",
        "video.release()\n",
        "cv.destroyAllWindows()"
      ],
      "execution_count": null,
      "outputs": []
    }
  ]
}