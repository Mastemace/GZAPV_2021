{
  "nbformat": 4,
  "nbformat_minor": 0,
  "metadata": {
    "colab": {
      "name": "Untitled3.ipynb",
      "provenance": []
    },
    "kernelspec": {
      "name": "python3",
      "display_name": "Python 3"
    },
    "language_info": {
      "name": "python"
    }
  },
  "cells": [
    {
      "cell_type": "code",
      "metadata": {
        "id": "CtweQh3tNyTE"
      },
      "source": [
        "import cv2 as cv\n",
        "import numpy as np\n",
        "import matplotlib.pyplot as plt"
      ],
      "execution_count": null,
      "outputs": []
    },
    {
      "cell_type": "code",
      "metadata": {
        "id": "KzKgHMwqNyo6"
      },
      "source": [
        "img = cv.imread('road.jpg')\n",
        "out = cv.Canny(img, 250, 255)\n",
        "plt.subplot(1,2,1)\n",
        "plt.imshow(out)\n",
        "lines = cv.HoughLinesP(out, 1, np.pi/180, 320, minLineLength=150, maxLineGap=190)\n",
        "\n",
        "for line in lines:\n",
        "  x1,y1,x2,y2 = line[0]\n",
        "  cv.line(img, (x1,y1), (x2, y2), (0,255,0),3)\n",
        "\n",
        "plt.subplot(1,2,2)\n",
        "plt.imshow(img)\n",
        "cv.imwrite('out.jpg', img)"
      ],
      "execution_count": null,
      "outputs": []
    }
  ]
}