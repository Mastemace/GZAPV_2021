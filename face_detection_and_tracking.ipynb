{
 "cells": [
  {
   "cell_type": "code",
   "execution_count": 9,
   "metadata": {},
   "outputs": [],
   "source": [
    "import cv2 as cv\n",
    "import time"
   ]
  },
  {
   "cell_type": "code",
   "execution_count": 11,
   "metadata": {},
   "outputs": [
    {
     "name": "stdout",
     "output_type": "stream",
     "text": [
      "zvladnuto za  0.2602720260620117 s\n",
      "nasel jsem  22 vysmatych obliceju\n"
     ]
    }
   ],
   "source": [
    "img = cv.imread('imgs/irafm_2017.jpg')\n",
    "\n",
    "chleba = cv.CascadeClassifier('data/haarcascade_frontalface_default.xml')\n",
    "\n",
    "\n",
    "\n",
    "start = time.time()\n",
    "vysmate_obliceje = chleba.detectMultiScale(img, 1.3, 5)\n",
    "print('zvladnuto za ', time.time()-start, 's')\n",
    "\n",
    "print('nasel jsem ', len(vysmate_obliceje), 'vysmatych obliceju')\n",
    "\n",
    "for (x, y, w, h) in vysmate_obliceje:\n",
    "    img = cv.rectangle(img, (x, y), (x+w, y+h), (0, 255, 0), 3)\n",
    "    \n",
    "cv.imshow('', img)\n",
    "cv.waitKey(0)\n",
    "cv.destroyAllWindows() "
   ]
  }
 ],
 "metadata": {
  "kernelspec": {
   "display_name": "Python 3",
   "language": "python",
   "name": "python3"
  },
  "language_info": {
   "codemirror_mode": {
    "name": "ipython",
    "version": 3
   },
   "file_extension": ".py",
   "mimetype": "text/x-python",
   "name": "python",
   "nbconvert_exporter": "python",
   "pygments_lexer": "ipython3",
   "version": "3.6.8"
  }
 },
 "nbformat": 4,
 "nbformat_minor": 4
}
